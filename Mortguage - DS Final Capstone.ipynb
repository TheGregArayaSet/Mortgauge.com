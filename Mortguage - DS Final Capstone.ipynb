{
 "cells": [
  {
   "cell_type": "markdown",
   "metadata": {},
   "source": [
    "---\n",
    "# Before You Mortgage, Mortgauge.com \n",
    "## By Greg Araya\n",
    "---"
   ]
  },
  {
   "cell_type": "markdown",
   "metadata": {},
   "source": [
    "## Introduction\n",
    "\n",
    "Not long ago I started looking around at houses and condos. To make a long dreadful story short, the process to get approved for a mortgage was awful. After too many back and forth calls, meetings, bothersome agents, outright rude interactions, and a seemingly endless amount of documents to fill out, I was completely disenchanted with the whole process. Fast forward to the current day, I came across a dataset from Home Credit Group that contained information from over 300,000 applicants for home loans. It includes a vast amount about each applicant before, during, and after the application process. I thought to myself, what if there was a way I could help others avoid some of the trouble I went through? For this project, I would like to create a model that would be used behind an informative website that tells potential applicants how ready they are to take on a home loan.\n",
    "\n",
    "In order to accomplish this, I will be starting out with a data set provided by the Home Credit Group. This data set can be found here: [Home Credit Default Risk](https://www.kaggle.com/c/home-credit-default-risk/data). Home Credit Group is an international financial institution that was founded in 1997 in the Czech Republic, and headquartered in the Netherlands. They currently operate in 10 countries, so I believe the data set should prove a reasonable sample of applicants. Their data contains application information from over 307,000 applicants, as well as if they had financial troubles during the process.\n",
    "\n",
    "Using their data set I will utilize a combination of supervised learning and unsupervised learning on the applicants’ personal information, as well as some simple time series analysis on applicants’ credit card histories, to figure out what the most crucial variables are that can predict how likely someone is to successfully navigate a mortgage. Then, using these crucial variables, I intend to create a short form that could be accessed via a website. On this website, users could sign up and fill out this form at their own pace and on their own time. No annoying calls from loan officers rushing you along so they can make their commission off you. You wouldn’t even have to leave your couch or put on pants. This form would be much shorter than the usual applications, and the site would not be directly offering you a loan so there’s no pressure.\n",
    "\n",
    "I predict that it will be difficult to successfully split applicants into well defined groups with unique features, which is why I intend to do so with a combination of both unsupervised and supervised learning techniques. I also expect that near the end of the project I will have to be wary of class imbalance issues, such as too many people getting rejected, which wouldn’t be a very useful product."
   ]
  },
  {
   "cell_type": "markdown",
   "metadata": {},
   "source": [
    "#### But how is this any different than other online mortgage calculators?\n",
    "\n",
    "This is different than other \"mortgage calculators\" online because those focus specifically on if you can afford a certain specified amount or not, but don't provide reasons why you don't make it, or provide personalized resources for further research. Also, the available mortgage calculators also all ask for the same info but might miss some of the variables we discover here that ensure success after the loan is obtained. On top of all this, you can fill out the information over time and at your leisure. Take the pesky calls out of the equation, no pushy phone calls about your status and when you’re going to get all your documents together. Lastly, you won't have to worry about any unnecessary hard queries that bring down your credit score\n",
    "\n",
    "Now that we have all that established, let's jump into the fun."
   ]
  },
  {
   "cell_type": "markdown",
   "metadata": {},
   "source": [
    "## Wrangling the Data\n",
    "\n",
    "Let's begin by uploading all of the modules we'll need. Then we can read in the data and take a look at it."
   ]
  },
  {
   "cell_type": "code",
   "execution_count": 1,
   "metadata": {},
   "outputs": [],
   "source": [
    "# The usuals\n",
    "import pandas as pd\n",
    "import numpy as np\n",
    "import matplotlib.pyplot as plt\n",
    "import time\n",
    "import seaborn as sns\n",
    "import warnings\n",
    "from scipy import stats\n",
    "\n",
    "# Tools we can use on the models\n",
    "from sklearn.model_selection import train_test_split\n",
    "from sklearn.feature_extraction.text import TfidfVectorizer\n",
    "from sklearn.pipeline import Pipeline\n",
    "from sklearn.metrics import classification_report\n",
    "from sklearn import metrics\n",
    "from sklearn.metrics import pairwise_distances\n",
    "from scipy.spatial.distance import cdist\n",
    "\n",
    "# Data cleaning and feature importance\n",
    "from sklearn.preprocessing import StandardScaler\n",
    "from sklearn.preprocessing import normalize\n",
    "from sklearn.feature_selection import SelectKBest, f_classif\n",
    "from sklearn.model_selection import RandomizedSearchCV\n",
    "from scipy.stats.mstats import winsorize\n",
    "from sklearn.feature_selection import SelectFromModel\n",
    "from sklearn import preprocessing\n",
    "\n",
    "# Naive Bayes modules\n",
    "from sklearn.naive_bayes import BernoulliNB\n",
    "from sklearn.model_selection import cross_val_score\n",
    "\n",
    "# Random Forest modules\n",
    "from sklearn import tree\n",
    "from sklearn import ensemble\n",
    "from sklearn.ensemble import RandomForestClassifier\n",
    "\n",
    "# K-Means module\n",
    "from sklearn.cluster import KMeans"
   ]
  },
  {
   "cell_type": "markdown",
   "metadata": {},
   "source": [
    "Now let's read in the data. These are some pretty big files, so I'm also going to print out how long it takes to process them. I also did some work using Google Colab, so I have my code saved in text form here for ease of reference."
   ]
  },
  {
   "cell_type": "code",
   "execution_count": 2,
   "metadata": {},
   "outputs": [
    {
     "name": "stdout",
     "output_type": "stream",
     "text": [
      "Reading all of the CSVs took 51.02792453765869 seconds\n"
     ]
    }
   ],
   "source": [
    "# Start a timer for reference on how long this takes\n",
    "read_start_time = time.time()\n",
    "\n",
    "application_df = pd.read_csv('application_train.csv')\n",
    "bur_df = pd.read_csv('bureau.csv')\n",
    "burbal_df = pd.read_csv('bureau_balance.csv')\n",
    "prevapp_df = pd.read_csv('previous_application.csv')\n",
    "poscash_df = pd.read_csv('POS_CASH_balance.csv')\n",
    "installs_df = pd.read_csv('installments_payments.csv')\n",
    "credit_df = pd.read_csv('credit_card_balance.csv')\n",
    "\n",
    "# Google colab versions #\n",
    "#application_df = pd.read_csv('/content/drive/My Drive/Thinkful/00_Final_Project/colab_upload/application_train.csv')\n",
    "#bur_df = pd.read_csv('/content/drive/My Drive/Thinkful/00_Final_Project/colab_upload/bureau.csv')\n",
    "#burbal_df = pd.read_csv('/content/drive/My Drive/Thinkful/00_Final_Project/colab_upload/bureau_balance.csv')\n",
    "#prevapp_df = pd.read_csv('/content/drive/My Drive/Thinkful/00_Final_Project/colab_upload/previous_application.csv')\n",
    "#poscash_df = pd.read_csv('/content/drive/My Drive/Thinkful/00_Final_Project/colab_upload/POS_CASH_balance.csv')\n",
    "#installs_df = pd.read_csv('/content/drive/My Drive/Thinkful/00_Final_Project/colab_upload/installments_payments.csv')\n",
    "#credit_df = pd.read_csv('/content/drive/My Drive/Thinkful/00_Final_Project/colab_upload/credit_card_balance.csv')\n",
    "\n",
    "\n",
    "# Print out how long it took\n",
    "print(\"Reading all of the CSVs took \" + str(time.time() - read_start_time) + \" seconds\")"
   ]
  },
  {
   "cell_type": "markdown",
   "metadata": {},
   "source": [
    "Now that we've uploaded all our information into pandas dataframes, we can move on to..."
   ]
  },
  {
   "cell_type": "markdown",
   "metadata": {},
   "source": [
    "## Exploratory Data Analysis\n",
    "\n",
    "Let's first take a look at the information provided by Home Credit Group about each of the tables we just loaded up above."
   ]
  },
  {
   "cell_type": "markdown",
   "metadata": {},
   "source": [
    "#### Table Information from Home Credit\n",
    "\n",
    "application_{train|test}.csv\n",
    "\n",
    "- This is the main table, broken into two files for Train (with TARGET) and Test (without TARGET).\n",
    "- Static data for all applications. One row represents one loan in our data sample.\n",
    "\n",
    "bureau.csv\n",
    "\n",
    "- All client's previous credits provided by other financial institutions that were reported to Credit Bureau (for clients who have a loan in our sample).\n",
    "- For every loan in our sample, there are as many rows as number of credits the client had in Credit Bureau before the application date.\n",
    "\n",
    "bureau_balance.csv\n",
    "\n",
    "- Monthly balances of previous credits in Credit Bureau.\n",
    "- This table has one row for each month of history of every previous credit reported to Credit Bureau – i.e the table has (#loans in sample * # of relative previous credits * # of months where we have some history observable for the previous credits) rows.\n",
    "\n",
    "POS_CASH_balance.csv\n",
    "\n",
    "- Monthly balance snapshots of previous POS (point of sales) and cash loans that the applicant had with Home Credit.\n",
    "- This table has one row for each month of history of every previous credit in Home Credit (consumer credit and cash loans) related to loans in our sample – i.e. the table has (#loans in sample * # of relative previous credits * # of months in which we have some history observable for the previous credits) rows.\n",
    "\n",
    "credit_card_balance.csv\n",
    "\n",
    "- Monthly balance snapshots of previous credit cards that the applicant has with Home Credit.\n",
    "- This table has one row for each month of history of every previous credit in Home Credit (consumer credit and cash loans) related to loans in our sample – i.e. the table has (#loans in sample * # of relative previous credit cards * # of months where we have some history observable for the previous credit card) rows.\n",
    "\n",
    "previous_application.csv\n",
    "\n",
    "- All previous applications for Home Credit loans of clients who have loans in our sample.\n",
    "- There is one row for each previous application related to loans in our data sample.\n",
    "\n",
    "installments_payments.csv\n",
    "\n",
    "- Repayment history for the previously disbursed credits in Home Credit related to the loans in our sample.\n",
    "- There is a) one row for every payment that was made plus b) one row each for missed payment.\n",
    "- One row is equivalent to one payment of one installment OR one installment corresponding to one payment of one previous Home Credit credit related to loans in our sample.\n",
    "\n",
    "HomeCredit_columns_description.csv\n",
    "\n",
    "- This file contains descriptions for the columns in the various data files."
   ]
  },
  {
   "cell_type": "markdown",
   "metadata": {},
   "source": [
    "![Home Credit Descriptions](https://storage.googleapis.com/kaggle-media/competitions/home-credit/home_credit.png)"
   ]
  },
  {
   "cell_type": "markdown",
   "metadata": {},
   "source": [
    "Now that we have a general idea of what this data looks like, let's take a deeper look to find out what's really in it. We can start this process by looking at the shapes of each table and printing out a preview of each."
   ]
  },
  {
   "cell_type": "code",
   "execution_count": 3,
   "metadata": {},
   "outputs": [
    {
     "name": "stdout",
     "output_type": "stream",
     "text": [
      "Size of application data: (307511, 122)\n",
      "Size of bureau data: (1716428, 17)\n",
      "Size of bureau_balance data: (27299925, 3)\n",
      "Size of previous_application data: (1670214, 37)\n",
      "Size of POS_CASH_balance data: (10001358, 8)\n",
      "Size of installments_payments data: (13605401, 8)\n",
      "Size of credit_card_balance data: (3840312, 23)\n"
     ]
    }
   ],
   "source": [
    "print('Size of application data:', application_df.shape)\n",
    "print('Size of bureau data:', bur_df.shape)\n",
    "print('Size of bureau_balance data:', burbal_df.shape)\n",
    "print('Size of previous_application data:', prevapp_df.shape)\n",
    "print('Size of POS_CASH_balance data:', poscash_df.shape)\n",
    "print('Size of installments_payments data:', installs_df.shape)\n",
    "print('Size of credit_card_balance data:', credit_df.shape)"
   ]
  },
  {
   "cell_type": "code",
   "execution_count": 4,
   "metadata": {
    "scrolled": true
   },
   "outputs": [
    {
     "data": {
      "text/html": [
       "<div>\n",
       "<style scoped>\n",
       "    .dataframe tbody tr th:only-of-type {\n",
       "        vertical-align: middle;\n",
       "    }\n",
       "\n",
       "    .dataframe tbody tr th {\n",
       "        vertical-align: top;\n",
       "    }\n",
       "\n",
       "    .dataframe thead th {\n",
       "        text-align: right;\n",
       "    }\n",
       "</style>\n",
       "<table border=\"1\" class=\"dataframe\">\n",
       "  <thead>\n",
       "    <tr style=\"text-align: right;\">\n",
       "      <th></th>\n",
       "      <th>SK_ID_CURR</th>\n",
       "      <th>TARGET</th>\n",
       "      <th>NAME_CONTRACT_TYPE</th>\n",
       "      <th>CODE_GENDER</th>\n",
       "      <th>FLAG_OWN_CAR</th>\n",
       "      <th>FLAG_OWN_REALTY</th>\n",
       "      <th>CNT_CHILDREN</th>\n",
       "      <th>AMT_INCOME_TOTAL</th>\n",
       "      <th>AMT_CREDIT</th>\n",
       "      <th>AMT_ANNUITY</th>\n",
       "      <th>...</th>\n",
       "      <th>FLAG_DOCUMENT_18</th>\n",
       "      <th>FLAG_DOCUMENT_19</th>\n",
       "      <th>FLAG_DOCUMENT_20</th>\n",
       "      <th>FLAG_DOCUMENT_21</th>\n",
       "      <th>AMT_REQ_CREDIT_BUREAU_HOUR</th>\n",
       "      <th>AMT_REQ_CREDIT_BUREAU_DAY</th>\n",
       "      <th>AMT_REQ_CREDIT_BUREAU_WEEK</th>\n",
       "      <th>AMT_REQ_CREDIT_BUREAU_MON</th>\n",
       "      <th>AMT_REQ_CREDIT_BUREAU_QRT</th>\n",
       "      <th>AMT_REQ_CREDIT_BUREAU_YEAR</th>\n",
       "    </tr>\n",
       "  </thead>\n",
       "  <tbody>\n",
       "    <tr>\n",
       "      <th>0</th>\n",
       "      <td>100002</td>\n",
       "      <td>1</td>\n",
       "      <td>Cash loans</td>\n",
       "      <td>M</td>\n",
       "      <td>N</td>\n",
       "      <td>Y</td>\n",
       "      <td>0</td>\n",
       "      <td>202500.0</td>\n",
       "      <td>406597.5</td>\n",
       "      <td>24700.5</td>\n",
       "      <td>...</td>\n",
       "      <td>0</td>\n",
       "      <td>0</td>\n",
       "      <td>0</td>\n",
       "      <td>0</td>\n",
       "      <td>0.0</td>\n",
       "      <td>0.0</td>\n",
       "      <td>0.0</td>\n",
       "      <td>0.0</td>\n",
       "      <td>0.0</td>\n",
       "      <td>1.0</td>\n",
       "    </tr>\n",
       "    <tr>\n",
       "      <th>1</th>\n",
       "      <td>100003</td>\n",
       "      <td>0</td>\n",
       "      <td>Cash loans</td>\n",
       "      <td>F</td>\n",
       "      <td>N</td>\n",
       "      <td>N</td>\n",
       "      <td>0</td>\n",
       "      <td>270000.0</td>\n",
       "      <td>1293502.5</td>\n",
       "      <td>35698.5</td>\n",
       "      <td>...</td>\n",
       "      <td>0</td>\n",
       "      <td>0</td>\n",
       "      <td>0</td>\n",
       "      <td>0</td>\n",
       "      <td>0.0</td>\n",
       "      <td>0.0</td>\n",
       "      <td>0.0</td>\n",
       "      <td>0.0</td>\n",
       "      <td>0.0</td>\n",
       "      <td>0.0</td>\n",
       "    </tr>\n",
       "    <tr>\n",
       "      <th>2</th>\n",
       "      <td>100004</td>\n",
       "      <td>0</td>\n",
       "      <td>Revolving loans</td>\n",
       "      <td>M</td>\n",
       "      <td>Y</td>\n",
       "      <td>Y</td>\n",
       "      <td>0</td>\n",
       "      <td>67500.0</td>\n",
       "      <td>135000.0</td>\n",
       "      <td>6750.0</td>\n",
       "      <td>...</td>\n",
       "      <td>0</td>\n",
       "      <td>0</td>\n",
       "      <td>0</td>\n",
       "      <td>0</td>\n",
       "      <td>0.0</td>\n",
       "      <td>0.0</td>\n",
       "      <td>0.0</td>\n",
       "      <td>0.0</td>\n",
       "      <td>0.0</td>\n",
       "      <td>0.0</td>\n",
       "    </tr>\n",
       "    <tr>\n",
       "      <th>3</th>\n",
       "      <td>100006</td>\n",
       "      <td>0</td>\n",
       "      <td>Cash loans</td>\n",
       "      <td>F</td>\n",
       "      <td>N</td>\n",
       "      <td>Y</td>\n",
       "      <td>0</td>\n",
       "      <td>135000.0</td>\n",
       "      <td>312682.5</td>\n",
       "      <td>29686.5</td>\n",
       "      <td>...</td>\n",
       "      <td>0</td>\n",
       "      <td>0</td>\n",
       "      <td>0</td>\n",
       "      <td>0</td>\n",
       "      <td>NaN</td>\n",
       "      <td>NaN</td>\n",
       "      <td>NaN</td>\n",
       "      <td>NaN</td>\n",
       "      <td>NaN</td>\n",
       "      <td>NaN</td>\n",
       "    </tr>\n",
       "    <tr>\n",
       "      <th>4</th>\n",
       "      <td>100007</td>\n",
       "      <td>0</td>\n",
       "      <td>Cash loans</td>\n",
       "      <td>M</td>\n",
       "      <td>N</td>\n",
       "      <td>Y</td>\n",
       "      <td>0</td>\n",
       "      <td>121500.0</td>\n",
       "      <td>513000.0</td>\n",
       "      <td>21865.5</td>\n",
       "      <td>...</td>\n",
       "      <td>0</td>\n",
       "      <td>0</td>\n",
       "      <td>0</td>\n",
       "      <td>0</td>\n",
       "      <td>0.0</td>\n",
       "      <td>0.0</td>\n",
       "      <td>0.0</td>\n",
       "      <td>0.0</td>\n",
       "      <td>0.0</td>\n",
       "      <td>0.0</td>\n",
       "    </tr>\n",
       "  </tbody>\n",
       "</table>\n",
       "<p>5 rows × 122 columns</p>\n",
       "</div>"
      ],
      "text/plain": [
       "   SK_ID_CURR  TARGET NAME_CONTRACT_TYPE CODE_GENDER FLAG_OWN_CAR  \\\n",
       "0      100002       1         Cash loans           M            N   \n",
       "1      100003       0         Cash loans           F            N   \n",
       "2      100004       0    Revolving loans           M            Y   \n",
       "3      100006       0         Cash loans           F            N   \n",
       "4      100007       0         Cash loans           M            N   \n",
       "\n",
       "  FLAG_OWN_REALTY  CNT_CHILDREN  AMT_INCOME_TOTAL  AMT_CREDIT  AMT_ANNUITY  \\\n",
       "0               Y             0          202500.0    406597.5      24700.5   \n",
       "1               N             0          270000.0   1293502.5      35698.5   \n",
       "2               Y             0           67500.0    135000.0       6750.0   \n",
       "3               Y             0          135000.0    312682.5      29686.5   \n",
       "4               Y             0          121500.0    513000.0      21865.5   \n",
       "\n",
       "   ...  FLAG_DOCUMENT_18 FLAG_DOCUMENT_19 FLAG_DOCUMENT_20 FLAG_DOCUMENT_21  \\\n",
       "0  ...                 0                0                0                0   \n",
       "1  ...                 0                0                0                0   \n",
       "2  ...                 0                0                0                0   \n",
       "3  ...                 0                0                0                0   \n",
       "4  ...                 0                0                0                0   \n",
       "\n",
       "  AMT_REQ_CREDIT_BUREAU_HOUR AMT_REQ_CREDIT_BUREAU_DAY  \\\n",
       "0                        0.0                       0.0   \n",
       "1                        0.0                       0.0   \n",
       "2                        0.0                       0.0   \n",
       "3                        NaN                       NaN   \n",
       "4                        0.0                       0.0   \n",
       "\n",
       "   AMT_REQ_CREDIT_BUREAU_WEEK  AMT_REQ_CREDIT_BUREAU_MON  \\\n",
       "0                         0.0                        0.0   \n",
       "1                         0.0                        0.0   \n",
       "2                         0.0                        0.0   \n",
       "3                         NaN                        NaN   \n",
       "4                         0.0                        0.0   \n",
       "\n",
       "   AMT_REQ_CREDIT_BUREAU_QRT  AMT_REQ_CREDIT_BUREAU_YEAR  \n",
       "0                        0.0                         1.0  \n",
       "1                        0.0                         0.0  \n",
       "2                        0.0                         0.0  \n",
       "3                        NaN                         NaN  \n",
       "4                        0.0                         0.0  \n",
       "\n",
       "[5 rows x 122 columns]"
      ]
     },
     "execution_count": 4,
     "metadata": {},
     "output_type": "execute_result"
    }
   ],
   "source": [
    "application_df.head()"
   ]
  },
  {
   "cell_type": "code",
   "execution_count": 5,
   "metadata": {},
   "outputs": [
    {
     "data": {
      "text/html": [
       "<div>\n",
       "<style scoped>\n",
       "    .dataframe tbody tr th:only-of-type {\n",
       "        vertical-align: middle;\n",
       "    }\n",
       "\n",
       "    .dataframe tbody tr th {\n",
       "        vertical-align: top;\n",
       "    }\n",
       "\n",
       "    .dataframe thead th {\n",
       "        text-align: right;\n",
       "    }\n",
       "</style>\n",
       "<table border=\"1\" class=\"dataframe\">\n",
       "  <thead>\n",
       "    <tr style=\"text-align: right;\">\n",
       "      <th></th>\n",
       "      <th>SK_ID_PREV</th>\n",
       "      <th>SK_ID_CURR</th>\n",
       "      <th>MONTHS_BALANCE</th>\n",
       "      <th>AMT_BALANCE</th>\n",
       "      <th>AMT_CREDIT_LIMIT_ACTUAL</th>\n",
       "      <th>AMT_DRAWINGS_ATM_CURRENT</th>\n",
       "      <th>AMT_DRAWINGS_CURRENT</th>\n",
       "      <th>AMT_DRAWINGS_OTHER_CURRENT</th>\n",
       "      <th>AMT_DRAWINGS_POS_CURRENT</th>\n",
       "      <th>AMT_INST_MIN_REGULARITY</th>\n",
       "      <th>...</th>\n",
       "      <th>AMT_RECIVABLE</th>\n",
       "      <th>AMT_TOTAL_RECEIVABLE</th>\n",
       "      <th>CNT_DRAWINGS_ATM_CURRENT</th>\n",
       "      <th>CNT_DRAWINGS_CURRENT</th>\n",
       "      <th>CNT_DRAWINGS_OTHER_CURRENT</th>\n",
       "      <th>CNT_DRAWINGS_POS_CURRENT</th>\n",
       "      <th>CNT_INSTALMENT_MATURE_CUM</th>\n",
       "      <th>NAME_CONTRACT_STATUS</th>\n",
       "      <th>SK_DPD</th>\n",
       "      <th>SK_DPD_DEF</th>\n",
       "    </tr>\n",
       "  </thead>\n",
       "  <tbody>\n",
       "    <tr>\n",
       "      <th>0</th>\n",
       "      <td>2562384</td>\n",
       "      <td>378907</td>\n",
       "      <td>-6</td>\n",
       "      <td>56.970</td>\n",
       "      <td>135000</td>\n",
       "      <td>0.0</td>\n",
       "      <td>877.5</td>\n",
       "      <td>0.0</td>\n",
       "      <td>877.5</td>\n",
       "      <td>1700.325</td>\n",
       "      <td>...</td>\n",
       "      <td>0.000</td>\n",
       "      <td>0.000</td>\n",
       "      <td>0.0</td>\n",
       "      <td>1</td>\n",
       "      <td>0.0</td>\n",
       "      <td>1.0</td>\n",
       "      <td>35.0</td>\n",
       "      <td>Active</td>\n",
       "      <td>0</td>\n",
       "      <td>0</td>\n",
       "    </tr>\n",
       "    <tr>\n",
       "      <th>1</th>\n",
       "      <td>2582071</td>\n",
       "      <td>363914</td>\n",
       "      <td>-1</td>\n",
       "      <td>63975.555</td>\n",
       "      <td>45000</td>\n",
       "      <td>2250.0</td>\n",
       "      <td>2250.0</td>\n",
       "      <td>0.0</td>\n",
       "      <td>0.0</td>\n",
       "      <td>2250.000</td>\n",
       "      <td>...</td>\n",
       "      <td>64875.555</td>\n",
       "      <td>64875.555</td>\n",
       "      <td>1.0</td>\n",
       "      <td>1</td>\n",
       "      <td>0.0</td>\n",
       "      <td>0.0</td>\n",
       "      <td>69.0</td>\n",
       "      <td>Active</td>\n",
       "      <td>0</td>\n",
       "      <td>0</td>\n",
       "    </tr>\n",
       "    <tr>\n",
       "      <th>2</th>\n",
       "      <td>1740877</td>\n",
       "      <td>371185</td>\n",
       "      <td>-7</td>\n",
       "      <td>31815.225</td>\n",
       "      <td>450000</td>\n",
       "      <td>0.0</td>\n",
       "      <td>0.0</td>\n",
       "      <td>0.0</td>\n",
       "      <td>0.0</td>\n",
       "      <td>2250.000</td>\n",
       "      <td>...</td>\n",
       "      <td>31460.085</td>\n",
       "      <td>31460.085</td>\n",
       "      <td>0.0</td>\n",
       "      <td>0</td>\n",
       "      <td>0.0</td>\n",
       "      <td>0.0</td>\n",
       "      <td>30.0</td>\n",
       "      <td>Active</td>\n",
       "      <td>0</td>\n",
       "      <td>0</td>\n",
       "    </tr>\n",
       "    <tr>\n",
       "      <th>3</th>\n",
       "      <td>1389973</td>\n",
       "      <td>337855</td>\n",
       "      <td>-4</td>\n",
       "      <td>236572.110</td>\n",
       "      <td>225000</td>\n",
       "      <td>2250.0</td>\n",
       "      <td>2250.0</td>\n",
       "      <td>0.0</td>\n",
       "      <td>0.0</td>\n",
       "      <td>11795.760</td>\n",
       "      <td>...</td>\n",
       "      <td>233048.970</td>\n",
       "      <td>233048.970</td>\n",
       "      <td>1.0</td>\n",
       "      <td>1</td>\n",
       "      <td>0.0</td>\n",
       "      <td>0.0</td>\n",
       "      <td>10.0</td>\n",
       "      <td>Active</td>\n",
       "      <td>0</td>\n",
       "      <td>0</td>\n",
       "    </tr>\n",
       "    <tr>\n",
       "      <th>4</th>\n",
       "      <td>1891521</td>\n",
       "      <td>126868</td>\n",
       "      <td>-1</td>\n",
       "      <td>453919.455</td>\n",
       "      <td>450000</td>\n",
       "      <td>0.0</td>\n",
       "      <td>11547.0</td>\n",
       "      <td>0.0</td>\n",
       "      <td>11547.0</td>\n",
       "      <td>22924.890</td>\n",
       "      <td>...</td>\n",
       "      <td>453919.455</td>\n",
       "      <td>453919.455</td>\n",
       "      <td>0.0</td>\n",
       "      <td>1</td>\n",
       "      <td>0.0</td>\n",
       "      <td>1.0</td>\n",
       "      <td>101.0</td>\n",
       "      <td>Active</td>\n",
       "      <td>0</td>\n",
       "      <td>0</td>\n",
       "    </tr>\n",
       "  </tbody>\n",
       "</table>\n",
       "<p>5 rows × 23 columns</p>\n",
       "</div>"
      ],
      "text/plain": [
       "   SK_ID_PREV  SK_ID_CURR  MONTHS_BALANCE  AMT_BALANCE  \\\n",
       "0     2562384      378907              -6       56.970   \n",
       "1     2582071      363914              -1    63975.555   \n",
       "2     1740877      371185              -7    31815.225   \n",
       "3     1389973      337855              -4   236572.110   \n",
       "4     1891521      126868              -1   453919.455   \n",
       "\n",
       "   AMT_CREDIT_LIMIT_ACTUAL  AMT_DRAWINGS_ATM_CURRENT  AMT_DRAWINGS_CURRENT  \\\n",
       "0                   135000                       0.0                 877.5   \n",
       "1                    45000                    2250.0                2250.0   \n",
       "2                   450000                       0.0                   0.0   \n",
       "3                   225000                    2250.0                2250.0   \n",
       "4                   450000                       0.0               11547.0   \n",
       "\n",
       "   AMT_DRAWINGS_OTHER_CURRENT  AMT_DRAWINGS_POS_CURRENT  \\\n",
       "0                         0.0                     877.5   \n",
       "1                         0.0                       0.0   \n",
       "2                         0.0                       0.0   \n",
       "3                         0.0                       0.0   \n",
       "4                         0.0                   11547.0   \n",
       "\n",
       "   AMT_INST_MIN_REGULARITY  ...  AMT_RECIVABLE  AMT_TOTAL_RECEIVABLE  \\\n",
       "0                 1700.325  ...          0.000                 0.000   \n",
       "1                 2250.000  ...      64875.555             64875.555   \n",
       "2                 2250.000  ...      31460.085             31460.085   \n",
       "3                11795.760  ...     233048.970            233048.970   \n",
       "4                22924.890  ...     453919.455            453919.455   \n",
       "\n",
       "   CNT_DRAWINGS_ATM_CURRENT  CNT_DRAWINGS_CURRENT  CNT_DRAWINGS_OTHER_CURRENT  \\\n",
       "0                       0.0                     1                         0.0   \n",
       "1                       1.0                     1                         0.0   \n",
       "2                       0.0                     0                         0.0   \n",
       "3                       1.0                     1                         0.0   \n",
       "4                       0.0                     1                         0.0   \n",
       "\n",
       "   CNT_DRAWINGS_POS_CURRENT  CNT_INSTALMENT_MATURE_CUM  NAME_CONTRACT_STATUS  \\\n",
       "0                       1.0                       35.0                Active   \n",
       "1                       0.0                       69.0                Active   \n",
       "2                       0.0                       30.0                Active   \n",
       "3                       0.0                       10.0                Active   \n",
       "4                       1.0                      101.0                Active   \n",
       "\n",
       "   SK_DPD  SK_DPD_DEF  \n",
       "0       0           0  \n",
       "1       0           0  \n",
       "2       0           0  \n",
       "3       0           0  \n",
       "4       0           0  \n",
       "\n",
       "[5 rows x 23 columns]"
      ]
     },
     "execution_count": 5,
     "metadata": {},
     "output_type": "execute_result"
    }
   ],
   "source": [
    "credit_df.head()"
   ]
  },
  {
   "cell_type": "markdown",
   "metadata": {},
   "source": [
    "The amount of information contained in these CSV files is pretty immense, but we can do some manual feature reduction right off the bat by considering the goals of this project. Since we want to keep things somewhat simple for users, we can focus more on distinct values rather than long strings of payments. Therefore I'm going to focus on just the main application information as well as the credit card data. For all of the other tables I'll use a flag that will be kept in the main dataframe. This way, if the flag is found to be important, this could turn into a yes or no question on the website. This way we keep track that previous history is or is not found from each user and don't lose all the information in those tables. An example of a question that could spawn from these flag variables is, \"Could you provide 2 years of documentation proving your work history and income amount? Yes/No\". This will be much simpler than asking them to manually enter such information. This is just an informative tool after all.\n",
    "\n",
    "Following this, we should begin to clean up the data that we are going to use. Below I will select columns from the dataframes that are relevant to our analysis, and proceed to fill in missing values, process outliers, and investigate anything else that just doesn't look right."
   ]
  },
  {
   "cell_type": "markdown",
   "metadata": {},
   "source": [
    "##### Creating the Main Dataframe\n",
    "\n",
    "I will start our main dataframe by trimming down on what we have in the \"application\" data set. After that we can combine the useful information from the other spreadsheets into this main dataframe."
   ]
  },
  {
   "cell_type": "code",
   "execution_count": 6,
   "metadata": {},
   "outputs": [
    {
     "name": "stdout",
     "output_type": "stream",
     "text": [
      "Size of application data: (307511, 58)\n"
     ]
    }
   ],
   "source": [
    "# Create a list for the columns we want\n",
    "feat_columns = ['TARGET', 'SK_ID_CURR', 'NAME_CONTRACT_TYPE', 'CODE_GENDER', 'FLAG_OWN_CAR', 'FLAG_OWN_REALTY',\n",
    "                        'CNT_CHILDREN', 'AMT_INCOME_TOTAL', 'AMT_CREDIT', 'AMT_ANNUITY', 'AMT_GOODS_PRICE', 'NAME_TYPE_SUITE',\n",
    "                        'NAME_INCOME_TYPE', 'NAME_EDUCATION_TYPE', 'NAME_FAMILY_STATUS', 'NAME_HOUSING_TYPE',\n",
    "                        'REGION_POPULATION_RELATIVE', 'DAYS_BIRTH', 'DAYS_EMPLOYED', 'DAYS_REGISTRATION', 'DAYS_ID_PUBLISH',\n",
    "                        'OWN_CAR_AGE', 'FLAG_EMP_PHONE', 'FLAG_WORK_PHONE', 'FLAG_CONT_MOBILE', 'FLAG_PHONE',\n",
    "                        'FLAG_EMAIL', 'OCCUPATION_TYPE', 'CNT_FAM_MEMBERS', 'REGION_RATING_CLIENT',\n",
    "                        'REGION_RATING_CLIENT_W_CITY', 'WEEKDAY_APPR_PROCESS_START', 'HOUR_APPR_PROCESS_START',\n",
    "                        'ORGANIZATION_TYPE', 'APARTMENTS_AVG', 'BASEMENTAREA_AVG', 'YEARS_BEGINEXPLUATATION_AVG',\n",
    "                        'YEARS_BUILD_AVG', 'COMMONAREA_AVG', 'ELEVATORS_AVG', 'ENTRANCES_AVG', 'FLOORSMAX_AVG',\n",
    "                        'FLOORSMIN_AVG', 'LANDAREA_AVG', 'LIVINGAPARTMENTS_AVG', 'LIVINGAREA_AVG', 'NONLIVINGAPARTMENTS_AVG',\n",
    "                        'NONLIVINGAREA_AVG', 'OBS_30_CNT_SOCIAL_CIRCLE', 'DEF_30_CNT_SOCIAL_CIRCLE',\n",
    "                        'OBS_60_CNT_SOCIAL_CIRCLE', 'DAYS_LAST_PHONE_CHANGE', 'AMT_REQ_CREDIT_BUREAU_HOUR',\n",
    "                        'AMT_REQ_CREDIT_BUREAU_DAY', 'AMT_REQ_CREDIT_BUREAU_WEEK', 'AMT_REQ_CREDIT_BUREAU_MON',\n",
    "                        'AMT_REQ_CREDIT_BUREAU_QRT', 'AMT_REQ_CREDIT_BUREAU_YEAR']\n",
    "\n",
    "# Copy our chosen columns into another dataframe\n",
    "app_df = application_df[feat_columns].copy()\n",
    "\n",
    "# Print out the size of our data\n",
    "print('Size of application data:', app_df.shape)"
   ]
  },
  {
   "cell_type": "markdown",
   "metadata": {},
   "source": [
    "For the Bureau, Bureau Balance, POS CASH Balance, Previous Application, and Installment Payments spreadsheets, I believe that these mainly contain information that would be too technical for the audience of this website. However, I wouldn't want to neglect them entirely, and instead choose to make a new flag variable in our data that can simply indicate which of these spreadsheets the applicant shows up in. If found to be important, these flags could be turned into simple questions such as \"Can you provide x amount of months of previous loan payments?\" or something of that nature."
   ]
  },
  {
   "cell_type": "code",
   "execution_count": 7,
   "metadata": {
    "scrolled": true
   },
   "outputs": [],
   "source": [
    "# Assign the Bureau Flag variable if we find the SK ID in the Bureau dataframe (1 if found 0 if not)\n",
    "app_df = app_df.assign(BUREAU_FLAG = app_df.SK_ID_CURR.isin(bur_df.SK_ID_CURR).astype(int))\n",
    "\n",
    "# Assign the Previous Application Flag variable if we find the SK ID in the Bureau dataframe (1 if found 0 if not)\n",
    "app_df = app_df.assign(PREV_APP_FLAG = app_df.SK_ID_CURR.isin(prevapp_df.SK_ID_CURR).astype(int))\n",
    "\n",
    "# Assign the POS CASH Flag variable if we find the SK ID in the Bureau dataframe (1 if found 0 if not)\n",
    "app_df = app_df.assign(POS_CASH_FLAG = app_df.SK_ID_CURR.isin(poscash_df.SK_ID_CURR).astype(int))\n",
    "\n",
    "# Assign the Installments Flag variable if we find the SK ID in the Bureau dataframe (1 if found 0 if not)\n",
    "app_df = app_df.assign(INSTALLS_FLAG = app_df.SK_ID_CURR.isin(installs_df.SK_ID_CURR).astype(int))"
   ]
  },
  {
   "cell_type": "markdown",
   "metadata": {},
   "source": [
    "Although I could have also simply made a flag for the Credit Card Balance spreadsheet like I did above for the other features, I thought this would be much more interesting to look into than the above spreadsheets. Many people have credit cards long before having home loans so this information could prove to be within the technical boundaries of our questions. Thus I will analyze the Credit Card Balance dataframe separately and then bring crucial information back into the dataframe later on."
   ]
  },
  {
   "cell_type": "markdown",
   "metadata": {},
   "source": [
    "##### Finding the Missing Values"
   ]
  },
  {
   "cell_type": "code",
   "execution_count": 8,
   "metadata": {},
   "outputs": [],
   "source": [
    "# First let's make a function that displays a dataframe % of missing information for us\n",
    "def perc_missing_vals(df):\n",
    "    \n",
    "    # Get the total number that is missing to divide with\n",
    "    tot_miss = df.isnull().sum()\n",
    "    \n",
    "    # Obtain the percentage\n",
    "    missed_perc = 100 * df.isnull().sum() / len(df)\n",
    "    \n",
    "    # Create a table that will show our results, set axis=1 to go over the columns\n",
    "    missing_table = pd.concat([tot_miss, missed_perc], axis=1)\n",
    "    \n",
    "    # Rename the columns\n",
    "    missing_table_cols = missing_table.rename(columns = {0: 'Missing Values', 1: '% of Total Values'})\n",
    "    \n",
    "    # Sort by the percentage we're missing (descending) that aren't = 0\n",
    "    missing_table_cols = missing_table_cols[missing_table_cols.iloc[:,1] != 0].sort_values('% of Total Values',\n",
    "                                                                                           ascending=False).round(1)\n",
    "    \n",
    "    # Print out information\n",
    "    print (\"Dataframe has \" + str(df.shape[1]) + \" columns.\\n\"      \n",
    "            \"There are \" + str(missing_table_cols.shape[0]) +\n",
    "              \" columns with missing values.\")\n",
    "    \n",
    "    # Return the missing info dataframe\n",
    "    return missing_table_cols"
   ]
  },
  {
   "cell_type": "markdown",
   "metadata": {},
   "source": [
    "##### Missing Values in the Main Dataframe"
   ]
  },
  {
   "cell_type": "code",
   "execution_count": 9,
   "metadata": {
    "scrolled": false
   },
   "outputs": [
    {
     "name": "stdout",
     "output_type": "stream",
     "text": [
      "Dataframe has 62 columns.\n",
      "There are 30 columns with missing values.\n"
     ]
    },
    {
     "data": {
      "text/html": [
       "<div>\n",
       "<style scoped>\n",
       "    .dataframe tbody tr th:only-of-type {\n",
       "        vertical-align: middle;\n",
       "    }\n",
       "\n",
       "    .dataframe tbody tr th {\n",
       "        vertical-align: top;\n",
       "    }\n",
       "\n",
       "    .dataframe thead th {\n",
       "        text-align: right;\n",
       "    }\n",
       "</style>\n",
       "<table border=\"1\" class=\"dataframe\">\n",
       "  <thead>\n",
       "    <tr style=\"text-align: right;\">\n",
       "      <th></th>\n",
       "      <th>Missing Values</th>\n",
       "      <th>% of Total Values</th>\n",
       "    </tr>\n",
       "  </thead>\n",
       "  <tbody>\n",
       "    <tr>\n",
       "      <th>COMMONAREA_AVG</th>\n",
       "      <td>214865</td>\n",
       "      <td>69.9</td>\n",
       "    </tr>\n",
       "    <tr>\n",
       "      <th>NONLIVINGAPARTMENTS_AVG</th>\n",
       "      <td>213514</td>\n",
       "      <td>69.4</td>\n",
       "    </tr>\n",
       "    <tr>\n",
       "      <th>LIVINGAPARTMENTS_AVG</th>\n",
       "      <td>210199</td>\n",
       "      <td>68.4</td>\n",
       "    </tr>\n",
       "    <tr>\n",
       "      <th>FLOORSMIN_AVG</th>\n",
       "      <td>208642</td>\n",
       "      <td>67.8</td>\n",
       "    </tr>\n",
       "    <tr>\n",
       "      <th>YEARS_BUILD_AVG</th>\n",
       "      <td>204488</td>\n",
       "      <td>66.5</td>\n",
       "    </tr>\n",
       "    <tr>\n",
       "      <th>OWN_CAR_AGE</th>\n",
       "      <td>202929</td>\n",
       "      <td>66.0</td>\n",
       "    </tr>\n",
       "    <tr>\n",
       "      <th>LANDAREA_AVG</th>\n",
       "      <td>182590</td>\n",
       "      <td>59.4</td>\n",
       "    </tr>\n",
       "    <tr>\n",
       "      <th>BASEMENTAREA_AVG</th>\n",
       "      <td>179943</td>\n",
       "      <td>58.5</td>\n",
       "    </tr>\n",
       "    <tr>\n",
       "      <th>NONLIVINGAREA_AVG</th>\n",
       "      <td>169682</td>\n",
       "      <td>55.2</td>\n",
       "    </tr>\n",
       "    <tr>\n",
       "      <th>ELEVATORS_AVG</th>\n",
       "      <td>163891</td>\n",
       "      <td>53.3</td>\n",
       "    </tr>\n",
       "    <tr>\n",
       "      <th>APARTMENTS_AVG</th>\n",
       "      <td>156061</td>\n",
       "      <td>50.7</td>\n",
       "    </tr>\n",
       "    <tr>\n",
       "      <th>ENTRANCES_AVG</th>\n",
       "      <td>154828</td>\n",
       "      <td>50.3</td>\n",
       "    </tr>\n",
       "    <tr>\n",
       "      <th>LIVINGAREA_AVG</th>\n",
       "      <td>154350</td>\n",
       "      <td>50.2</td>\n",
       "    </tr>\n",
       "    <tr>\n",
       "      <th>FLOORSMAX_AVG</th>\n",
       "      <td>153020</td>\n",
       "      <td>49.8</td>\n",
       "    </tr>\n",
       "    <tr>\n",
       "      <th>YEARS_BEGINEXPLUATATION_AVG</th>\n",
       "      <td>150007</td>\n",
       "      <td>48.8</td>\n",
       "    </tr>\n",
       "    <tr>\n",
       "      <th>OCCUPATION_TYPE</th>\n",
       "      <td>96391</td>\n",
       "      <td>31.3</td>\n",
       "    </tr>\n",
       "    <tr>\n",
       "      <th>AMT_REQ_CREDIT_BUREAU_HOUR</th>\n",
       "      <td>41519</td>\n",
       "      <td>13.5</td>\n",
       "    </tr>\n",
       "    <tr>\n",
       "      <th>AMT_REQ_CREDIT_BUREAU_MON</th>\n",
       "      <td>41519</td>\n",
       "      <td>13.5</td>\n",
       "    </tr>\n",
       "    <tr>\n",
       "      <th>AMT_REQ_CREDIT_BUREAU_WEEK</th>\n",
       "      <td>41519</td>\n",
       "      <td>13.5</td>\n",
       "    </tr>\n",
       "    <tr>\n",
       "      <th>AMT_REQ_CREDIT_BUREAU_QRT</th>\n",
       "      <td>41519</td>\n",
       "      <td>13.5</td>\n",
       "    </tr>\n",
       "    <tr>\n",
       "      <th>AMT_REQ_CREDIT_BUREAU_DAY</th>\n",
       "      <td>41519</td>\n",
       "      <td>13.5</td>\n",
       "    </tr>\n",
       "    <tr>\n",
       "      <th>AMT_REQ_CREDIT_BUREAU_YEAR</th>\n",
       "      <td>41519</td>\n",
       "      <td>13.5</td>\n",
       "    </tr>\n",
       "    <tr>\n",
       "      <th>NAME_TYPE_SUITE</th>\n",
       "      <td>1292</td>\n",
       "      <td>0.4</td>\n",
       "    </tr>\n",
       "    <tr>\n",
       "      <th>OBS_60_CNT_SOCIAL_CIRCLE</th>\n",
       "      <td>1021</td>\n",
       "      <td>0.3</td>\n",
       "    </tr>\n",
       "    <tr>\n",
       "      <th>DEF_30_CNT_SOCIAL_CIRCLE</th>\n",
       "      <td>1021</td>\n",
       "      <td>0.3</td>\n",
       "    </tr>\n",
       "    <tr>\n",
       "      <th>OBS_30_CNT_SOCIAL_CIRCLE</th>\n",
       "      <td>1021</td>\n",
       "      <td>0.3</td>\n",
       "    </tr>\n",
       "    <tr>\n",
       "      <th>AMT_GOODS_PRICE</th>\n",
       "      <td>278</td>\n",
       "      <td>0.1</td>\n",
       "    </tr>\n",
       "    <tr>\n",
       "      <th>AMT_ANNUITY</th>\n",
       "      <td>12</td>\n",
       "      <td>0.0</td>\n",
       "    </tr>\n",
       "    <tr>\n",
       "      <th>CNT_FAM_MEMBERS</th>\n",
       "      <td>2</td>\n",
       "      <td>0.0</td>\n",
       "    </tr>\n",
       "    <tr>\n",
       "      <th>DAYS_LAST_PHONE_CHANGE</th>\n",
       "      <td>1</td>\n",
       "      <td>0.0</td>\n",
       "    </tr>\n",
       "  </tbody>\n",
       "</table>\n",
       "</div>"
      ],
      "text/plain": [
       "                             Missing Values  % of Total Values\n",
       "COMMONAREA_AVG                       214865               69.9\n",
       "NONLIVINGAPARTMENTS_AVG              213514               69.4\n",
       "LIVINGAPARTMENTS_AVG                 210199               68.4\n",
       "FLOORSMIN_AVG                        208642               67.8\n",
       "YEARS_BUILD_AVG                      204488               66.5\n",
       "OWN_CAR_AGE                          202929               66.0\n",
       "LANDAREA_AVG                         182590               59.4\n",
       "BASEMENTAREA_AVG                     179943               58.5\n",
       "NONLIVINGAREA_AVG                    169682               55.2\n",
       "ELEVATORS_AVG                        163891               53.3\n",
       "APARTMENTS_AVG                       156061               50.7\n",
       "ENTRANCES_AVG                        154828               50.3\n",
       "LIVINGAREA_AVG                       154350               50.2\n",
       "FLOORSMAX_AVG                        153020               49.8\n",
       "YEARS_BEGINEXPLUATATION_AVG          150007               48.8\n",
       "OCCUPATION_TYPE                       96391               31.3\n",
       "AMT_REQ_CREDIT_BUREAU_HOUR            41519               13.5\n",
       "AMT_REQ_CREDIT_BUREAU_MON             41519               13.5\n",
       "AMT_REQ_CREDIT_BUREAU_WEEK            41519               13.5\n",
       "AMT_REQ_CREDIT_BUREAU_QRT             41519               13.5\n",
       "AMT_REQ_CREDIT_BUREAU_DAY             41519               13.5\n",
       "AMT_REQ_CREDIT_BUREAU_YEAR            41519               13.5\n",
       "NAME_TYPE_SUITE                        1292                0.4\n",
       "OBS_60_CNT_SOCIAL_CIRCLE               1021                0.3\n",
       "DEF_30_CNT_SOCIAL_CIRCLE               1021                0.3\n",
       "OBS_30_CNT_SOCIAL_CIRCLE               1021                0.3\n",
       "AMT_GOODS_PRICE                         278                0.1\n",
       "AMT_ANNUITY                              12                0.0\n",
       "CNT_FAM_MEMBERS                           2                0.0\n",
       "DAYS_LAST_PHONE_CHANGE                    1                0.0"
      ]
     },
     "execution_count": 9,
     "metadata": {},
     "output_type": "execute_result"
    }
   ],
   "source": [
    "# Missing values statistics for the data\n",
    "missing_values = perc_missing_vals(app_df)\n",
    "missing_values.head(31)"
   ]
  },
  {
   "cell_type": "markdown",
   "metadata": {},
   "source": [
    "##### Missing Values in the Credit Card Balance data"
   ]
  },
  {
   "cell_type": "code",
   "execution_count": 10,
   "metadata": {},
   "outputs": [
    {
     "name": "stdout",
     "output_type": "stream",
     "text": [
      "Dataframe has 23 columns.\n",
      "There are 9 columns with missing values.\n"
     ]
    },
    {
     "data": {
      "text/html": [
       "<div>\n",
       "<style scoped>\n",
       "    .dataframe tbody tr th:only-of-type {\n",
       "        vertical-align: middle;\n",
       "    }\n",
       "\n",
       "    .dataframe tbody tr th {\n",
       "        vertical-align: top;\n",
       "    }\n",
       "\n",
       "    .dataframe thead th {\n",
       "        text-align: right;\n",
       "    }\n",
       "</style>\n",
       "<table border=\"1\" class=\"dataframe\">\n",
       "  <thead>\n",
       "    <tr style=\"text-align: right;\">\n",
       "      <th></th>\n",
       "      <th>Missing Values</th>\n",
       "      <th>% of Total Values</th>\n",
       "    </tr>\n",
       "  </thead>\n",
       "  <tbody>\n",
       "    <tr>\n",
       "      <th>AMT_PAYMENT_CURRENT</th>\n",
       "      <td>767988</td>\n",
       "      <td>20.0</td>\n",
       "    </tr>\n",
       "    <tr>\n",
       "      <th>AMT_DRAWINGS_ATM_CURRENT</th>\n",
       "      <td>749816</td>\n",
       "      <td>19.5</td>\n",
       "    </tr>\n",
       "    <tr>\n",
       "      <th>AMT_DRAWINGS_OTHER_CURRENT</th>\n",
       "      <td>749816</td>\n",
       "      <td>19.5</td>\n",
       "    </tr>\n",
       "    <tr>\n",
       "      <th>AMT_DRAWINGS_POS_CURRENT</th>\n",
       "      <td>749816</td>\n",
       "      <td>19.5</td>\n",
       "    </tr>\n",
       "    <tr>\n",
       "      <th>CNT_DRAWINGS_ATM_CURRENT</th>\n",
       "      <td>749816</td>\n",
       "      <td>19.5</td>\n",
       "    </tr>\n",
       "    <tr>\n",
       "      <th>CNT_DRAWINGS_OTHER_CURRENT</th>\n",
       "      <td>749816</td>\n",
       "      <td>19.5</td>\n",
       "    </tr>\n",
       "    <tr>\n",
       "      <th>CNT_DRAWINGS_POS_CURRENT</th>\n",
       "      <td>749816</td>\n",
       "      <td>19.5</td>\n",
       "    </tr>\n",
       "    <tr>\n",
       "      <th>AMT_INST_MIN_REGULARITY</th>\n",
       "      <td>305236</td>\n",
       "      <td>7.9</td>\n",
       "    </tr>\n",
       "    <tr>\n",
       "      <th>CNT_INSTALMENT_MATURE_CUM</th>\n",
       "      <td>305236</td>\n",
       "      <td>7.9</td>\n",
       "    </tr>\n",
       "  </tbody>\n",
       "</table>\n",
       "</div>"
      ],
      "text/plain": [
       "                            Missing Values  % of Total Values\n",
       "AMT_PAYMENT_CURRENT                 767988               20.0\n",
       "AMT_DRAWINGS_ATM_CURRENT            749816               19.5\n",
       "AMT_DRAWINGS_OTHER_CURRENT          749816               19.5\n",
       "AMT_DRAWINGS_POS_CURRENT            749816               19.5\n",
       "CNT_DRAWINGS_ATM_CURRENT            749816               19.5\n",
       "CNT_DRAWINGS_OTHER_CURRENT          749816               19.5\n",
       "CNT_DRAWINGS_POS_CURRENT            749816               19.5\n",
       "AMT_INST_MIN_REGULARITY             305236                7.9\n",
       "CNT_INSTALMENT_MATURE_CUM           305236                7.9"
      ]
     },
     "execution_count": 10,
     "metadata": {},
     "output_type": "execute_result"
    }
   ],
   "source": [
    "# Missing values statistics for the credit card balance data\n",
    "missing_values = perc_missing_vals(credit_df)\n",
    "missing_values.head(9)"
   ]
  },
  {
   "cell_type": "markdown",
   "metadata": {},
   "source": [
    "Now that we know what variables are missing information that we need to fill in, let's also take a look at how variable our non-numeric columns are."
   ]
  },
  {
   "cell_type": "markdown",
   "metadata": {},
   "source": [
    "##### The Number of Unique Items Found in Each Non-Numeric Column"
   ]
  },
  {
   "cell_type": "code",
   "execution_count": 11,
   "metadata": {},
   "outputs": [
    {
     "data": {
      "text/plain": [
       "NAME_CONTRACT_TYPE             2\n",
       "CODE_GENDER                    3\n",
       "FLAG_OWN_CAR                   2\n",
       "FLAG_OWN_REALTY                2\n",
       "NAME_TYPE_SUITE                7\n",
       "NAME_INCOME_TYPE               8\n",
       "NAME_EDUCATION_TYPE            5\n",
       "NAME_FAMILY_STATUS             6\n",
       "NAME_HOUSING_TYPE              6\n",
       "OCCUPATION_TYPE               18\n",
       "WEEKDAY_APPR_PROCESS_START     7\n",
       "ORGANIZATION_TYPE             58\n",
       "dtype: int64"
      ]
     },
     "execution_count": 11,
     "metadata": {},
     "output_type": "execute_result"
    }
   ],
   "source": [
    "# Number of unique classes in each object column of data\n",
    "app_df.select_dtypes('object').apply(pd.Series.nunique, axis = 0)"
   ]
  },
  {
   "cell_type": "code",
   "execution_count": 12,
   "metadata": {},
   "outputs": [
    {
     "data": {
      "text/plain": [
       "NAME_CONTRACT_STATUS    7\n",
       "dtype: int64"
      ]
     },
     "execution_count": 12,
     "metadata": {},
     "output_type": "execute_result"
    }
   ],
   "source": [
    "# Number of unique classes in each object column of credit card data\n",
    "credit_df.select_dtypes('object').apply(pd.Series.nunique, axis = 0)"
   ]
  },
  {
   "cell_type": "markdown",
   "metadata": {},
   "source": [
    "A good number of these variables have lots of options, and these values don't particularly have a fixed order. However, we can still analyze these features by utilizing One Hot Encoding (i.e. creating dummy variables using get_dummies(). After that, we will then have to reduce the dimensionality since this will add a lot of features."
   ]
  },
  {
   "cell_type": "markdown",
   "metadata": {},
   "source": [
    "### Some Invormative Histograms from the Main Dataframe"
   ]
  },
  {
   "cell_type": "markdown",
   "metadata": {},
   "source": [
    "##### Target Variable"
   ]
  },
  {
   "cell_type": "markdown",
   "metadata": {},
   "source": [
    "Before we start filling in missing values, I would also like to learn about the distributions of some of our parameters. Below I have created some visuals to show us what kind of people have applications listed in this data set. First, let's simply see how many people were able to successfully pay off their loans, and how many of them had troubles, by charting the target variable from the data."
   ]
  },
  {
   "cell_type": "code",
   "execution_count": 13,
   "metadata": {},
   "outputs": [
    {
     "data": {
      "image/png": "[encoded data removed]",
      "text/plain": [
       "<Figure size 720x720 with 1 Axes>"
      ]
     },
     "metadata": {},
     "output_type": "display_data"
    }
   ],
   "source": [
    "plt.figure(figsize=(10,10))                          # set the size of the figure so it is readable\n",
    "plt.pie(\n",
    "    app_df['TARGET'].value_counts(sort=False),     # grab counts of target variable\n",
    "    labels=['Loan Repayed', 'Payment Difficulties'], # give the slices captions\n",
    "    autopct='%1.1f%%',                               # set digits of percentages\n",
    "    colors=['lightgreen', 'tomato'],\n",
    "    shadow=True)                                     # set a shadow behind the slices\n",
    "\n",
    "plt.title('% of Applicants With or Without Payment Difficulties', fontsize=18)    # create a title\n",
    "plt.rcParams[\"axes.labelweight\"] = \"bold\"                                      # bold the text for readability\n",
    "plt.show()                                                                     # plot away"
   ]
  },
  {
   "cell_type": "markdown",
   "metadata": {},
   "source": [
    "This data is clearly imbalanced with many people who had no problems repaying their home loans. We will have to keep that in mind for our testing. Luckily for us, there are supervised learning models that can do the balancing for us. For now though, let's continue to look at a few other variables that I believe will help us get a picture of who these people are."
   ]
  },
  {
   "cell_type": "markdown",
   "metadata": {},
   "source": [
    "##### 'NAME_CONTRACT_TYPE'"
   ]
  },
  {
   "cell_type": "code",
   "execution_count": 14,
   "metadata": {},
   "outputs": [
    {
     "data": {
      "image/png": "[encoded data removed]",
      "text/plain": [
       "<Figure size 720x720 with 1 Axes>"
      ]
     },
     "metadata": {},
     "output_type": "display_data"
    }
   ],
   "source": [
    "plt.figure(figsize=(10,10))                                      # set the size of the figure so it is readable\n",
    "plt.pie(\n",
    "    app_df['NAME_CONTRACT_TYPE'].value_counts(sort=False),     # grab counts of target variable\n",
    "    labels=['Revolving Loans', 'Cash Loans'],                    # give the slices captions\n",
    "    autopct='%1.1f%%',                                           # set digits of percentages\n",
    "    colors=['orchid', 'powderblue'],\n",
    "    shadow=True)                                                 # set a shadow behind the slices\n",
    "\n",
    "plt.title('Loan Type Percentage', fontsize=18)                   # create a title\n",
    "plt.rcParams[\"axes.labelweight\"] = \"bold\"                        # bold the text for readability\n",
    "plt.show()                                                       # plot away"
   ]
  },
  {
   "cell_type": "markdown",
   "metadata": {},
   "source": [
    "##### 'CODE_GENDER'"
   ]
  },
  {
   "cell_type": "code",
   "execution_count": 15,
   "metadata": {},
   "outputs": [
    {
     "data": {
      "image/png": "[encoded data removed]",
      "text/plain": [
       "<Figure size 1008x504 with 1 Axes>"
      ]
     },
     "metadata": {
      "needs_background": "light"
     },
     "output_type": "display_data"
    }
   ],
   "source": [
    "plt.figure(figsize=(14,7))\n",
    "plt.bar(app_df['CODE_GENDER'].unique(),\n",
    "        height=app_df['CODE_GENDER'].value_counts(),\n",
    "        align='center', \n",
    "        edgecolor='black',\n",
    "        color=['indianred', 'lightskyblue'],\n",
    "        tick_label=['Female', 'Male', 'XNA'])\n",
    "plt.title('Count of Female and Male', y=1.025, fontsize=18)\n",
    "plt.show()"
   ]
  },
  {
   "cell_type": "markdown",
   "metadata": {},
   "source": [
    "##### 'CNT_CHILDREN'"
   ]
  },
  {
   "cell_type": "code",
   "execution_count": 16,
   "metadata": {},
   "outputs": [
    {
     "data": {
      "image/png": "[encoded data removed]",
      "text/plain": [
       "<Figure size 1008x504 with 1 Axes>"
      ]
     },
     "metadata": {
      "needs_background": "light"
     },
     "output_type": "display_data"
    }
   ],
   "source": [
    "# Get a sorted list of the number of children\n",
    "num_chil = app_df['CNT_CHILDREN'].unique()\n",
    "num_chil.sort()\n",
    "\n",
    "# Plot them out in a bar\n",
    "plt.figure(figsize=(14,7))\n",
    "plt.bar(num_chil,\n",
    "        height=app_df['CNT_CHILDREN'].value_counts(),\n",
    "        align='center', \n",
    "        edgecolor='black',\n",
    "        color='mediumseagreen')\n",
    "\n",
    "plt.xticks(range(0,20,1))\n",
    "plt.title('Number of Children', y=1.025, fontsize=18)\n",
    "plt.ylabel('Count of Applicants')\n",
    "plt.show()"
   ]
  },
  {
   "cell_type": "markdown",
   "metadata": {},
   "source": [
    "You might be thinking, \"Why does this graph go all the way up to 20?\" Well, apparently there are two people in this data set who had 19 kids, both of whom I printed out below. Unsurprisingly, they both had issues with paying off their home loans too (see that Target = 0)."
   ]
  },
  {
   "cell_type": "code",
   "execution_count": 17,
   "metadata": {},
   "outputs": [
    {
     "data": {
      "text/html": [
       "<div>\n",
       "<style scoped>\n",
       "    .dataframe tbody tr th:only-of-type {\n",
       "        vertical-align: middle;\n",
       "    }\n",
       "\n",
       "    .dataframe tbody tr th {\n",
       "        vertical-align: top;\n",
       "    }\n",
       "\n",
       "    .dataframe thead th {\n",
       "        text-align: right;\n",
       "    }\n",
       "</style>\n",
       "<table border=\"1\" class=\"dataframe\">\n",
       "  <thead>\n",
       "    <tr style=\"text-align: right;\">\n",
       "      <th></th>\n",
       "      <th>TARGET</th>\n",
       "      <th>SK_ID_CURR</th>\n",
       "      <th>NAME_CONTRACT_TYPE</th>\n",
       "      <th>CODE_GENDER</th>\n",
       "      <th>FLAG_OWN_CAR</th>\n",
       "      <th>FLAG_OWN_REALTY</th>\n",
       "      <th>CNT_CHILDREN</th>\n",
       "      <th>AMT_INCOME_TOTAL</th>\n",
       "      <th>AMT_CREDIT</th>\n",
       "      <th>AMT_ANNUITY</th>\n",
       "      <th>...</th>\n",
       "      <th>AMT_REQ_CREDIT_BUREAU_HOUR</th>\n",
       "      <th>AMT_REQ_CREDIT_BUREAU_DAY</th>\n",
       "      <th>AMT_REQ_CREDIT_BUREAU_WEEK</th>\n",
       "      <th>AMT_REQ_CREDIT_BUREAU_MON</th>\n",
       "      <th>AMT_REQ_CREDIT_BUREAU_QRT</th>\n",
       "      <th>AMT_REQ_CREDIT_BUREAU_YEAR</th>\n",
       "      <th>BUREAU_FLAG</th>\n",
       "      <th>PREV_APP_FLAG</th>\n",
       "      <th>POS_CASH_FLAG</th>\n",
       "      <th>INSTALLS_FLAG</th>\n",
       "    </tr>\n",
       "  </thead>\n",
       "  <tbody>\n",
       "    <tr>\n",
       "      <th>155369</th>\n",
       "      <td>0</td>\n",
       "      <td>280108</td>\n",
       "      <td>Cash loans</td>\n",
       "      <td>F</td>\n",
       "      <td>N</td>\n",
       "      <td>Y</td>\n",
       "      <td>19</td>\n",
       "      <td>112500.0</td>\n",
       "      <td>269550.0</td>\n",
       "      <td>13891.5</td>\n",
       "      <td>...</td>\n",
       "      <td>0.0</td>\n",
       "      <td>0.0</td>\n",
       "      <td>0.0</td>\n",
       "      <td>0.0</td>\n",
       "      <td>0.0</td>\n",
       "      <td>4.0</td>\n",
       "      <td>1</td>\n",
       "      <td>1</td>\n",
       "      <td>1</td>\n",
       "      <td>1</td>\n",
       "    </tr>\n",
       "    <tr>\n",
       "      <th>265784</th>\n",
       "      <td>0</td>\n",
       "      <td>407877</td>\n",
       "      <td>Cash loans</td>\n",
       "      <td>F</td>\n",
       "      <td>N</td>\n",
       "      <td>Y</td>\n",
       "      <td>19</td>\n",
       "      <td>112500.0</td>\n",
       "      <td>135000.0</td>\n",
       "      <td>8788.5</td>\n",
       "      <td>...</td>\n",
       "      <td>0.0</td>\n",
       "      <td>0.0</td>\n",
       "      <td>0.0</td>\n",
       "      <td>0.0</td>\n",
       "      <td>0.0</td>\n",
       "      <td>2.0</td>\n",
       "      <td>1</td>\n",
       "      <td>1</td>\n",
       "      <td>1</td>\n",
       "      <td>1</td>\n",
       "    </tr>\n",
       "  </tbody>\n",
       "</table>\n",
       "<p>2 rows × 62 columns</p>\n",
       "</div>"
      ],
      "text/plain": [
       "        TARGET  SK_ID_CURR NAME_CONTRACT_TYPE CODE_GENDER FLAG_OWN_CAR  \\\n",
       "155369       0      280108         Cash loans           F            N   \n",
       "265784       0      407877         Cash loans           F            N   \n",
       "\n",
       "       FLAG_OWN_REALTY  CNT_CHILDREN  AMT_INCOME_TOTAL  AMT_CREDIT  \\\n",
       "155369               Y            19          112500.0    269550.0   \n",
       "265784               Y            19          112500.0    135000.0   \n",
       "\n",
       "        AMT_ANNUITY  ...  AMT_REQ_CREDIT_BUREAU_HOUR  \\\n",
       "155369      13891.5  ...                         0.0   \n",
       "265784       8788.5  ...                         0.0   \n",
       "\n",
       "       AMT_REQ_CREDIT_BUREAU_DAY AMT_REQ_CREDIT_BUREAU_WEEK  \\\n",
       "155369                       0.0                        0.0   \n",
       "265784                       0.0                        0.0   \n",
       "\n",
       "       AMT_REQ_CREDIT_BUREAU_MON AMT_REQ_CREDIT_BUREAU_QRT  \\\n",
       "155369                       0.0                       0.0   \n",
       "265784                       0.0                       0.0   \n",
       "\n",
       "       AMT_REQ_CREDIT_BUREAU_YEAR  BUREAU_FLAG  PREV_APP_FLAG  POS_CASH_FLAG  \\\n",
       "155369                        4.0            1              1              1   \n",
       "265784                        2.0            1              1              1   \n",
       "\n",
       "        INSTALLS_FLAG  \n",
       "155369              1  \n",
       "265784              1  \n",
       "\n",
       "[2 rows x 62 columns]"
      ]
     },
     "execution_count": 17,
     "metadata": {},
     "output_type": "execute_result"
    }
   ],
   "source": [
    "app_df[app_df['CNT_CHILDREN'] == 19].head()"
   ]
  },
  {
   "cell_type": "markdown",
   "metadata": {},
   "source": [
    "##### 'AMT_INCOME_TOTAL'"
   ]
  },
  {
   "cell_type": "code",
   "execution_count": 18,
   "metadata": {
    "scrolled": false
   },
   "outputs": [
    {
     "data": {
      "image/png": "[encoded data removed]",
      "text/plain": [
       "<Figure size 1008x504 with 1 Axes>"
      ]
     },
     "metadata": {
      "needs_background": "light"
     },
     "output_type": "display_data"
    }
   ],
   "source": [
    "plt.figure(figsize=(14,7))\n",
    "plt.plot(app_df['AMT_INCOME_TOTAL'])\n",
    "\n",
    "plt.xticks(range(0,320_000,20_000))\n",
    "plt.title('Income of the Applicants', y=1.025, fontsize=18)\n",
    "plt.ylabel('%age of Applicants')\n",
    "plt.show()"
   ]
  },
  {
   "cell_type": "markdown",
   "metadata": {},
   "source": [
    "##### 'NAME_INCOME_TYPE'"
   ]
  },
  {
   "cell_type": "code",
   "execution_count": 19,
   "metadata": {},
   "outputs": [
    {
     "data": {
      "image/png": "[encoded data removed]",
      "text/plain": [
       "<Figure size 1008x504 with 1 Axes>"
      ]
     },
     "metadata": {
      "needs_background": "light"
     },
     "output_type": "display_data"
    }
   ],
   "source": [
    "# Make a bar plot of all the Applicants' income type\n",
    "plt.figure(figsize=(14,7))\n",
    "plt.bar(app_df['NAME_INCOME_TYPE'].unique(),\n",
    "        height=app_df['NAME_INCOME_TYPE'].value_counts(),\n",
    "        align='center', \n",
    "        edgecolor='black',\n",
    "        color='aquamarine')\n",
    "plt.title('Applicant\\'s Income Type', y=1.025, fontsize=18)\n",
    "plt.ylabel('Count of Applicants')\n",
    "plt.show()"
   ]
  },
  {
   "cell_type": "markdown",
   "metadata": {},
   "source": [
    "##### 'NAME_TYPE_SUITE'"
   ]
  },
  {
   "cell_type": "markdown",
   "metadata": {},
   "source": [
    "As can be seen above, the number of missing values in the 'NAME_TYPE_SUITE' variable is about 0.4% of people. We can probably assume that these people didn't bring anyone with them and that this data point wasn't recorded in such a situation. Filling these values with \"Unaccompanied\" shouldn't affect our data too much."
   ]
  },
  {
   "cell_type": "code",
   "execution_count": 20,
   "metadata": {},
   "outputs": [
    {
     "data": {
      "image/png": "[encoded data removed]",
      "text/plain": [
       "<Figure size 1008x504 with 1 Axes>"
      ]
     },
     "metadata": {
      "needs_background": "light"
     },
     "output_type": "display_data"
    }
   ],
   "source": [
    "# Fill in NaNs for the NAME_TYPE_SUITE column\n",
    "app_df['NAME_TYPE_SUITE'].fillna(value='Unaccompanied', inplace=True)\n",
    "\n",
    "# Make a bar plot of all the Applicants and who they brought with them\n",
    "plt.figure(figsize=(14,7))\n",
    "plt.bar(app_df['NAME_TYPE_SUITE'].unique(),\n",
    "        height=app_df['NAME_TYPE_SUITE'].value_counts(),\n",
    "        align='center', \n",
    "        edgecolor='black',\n",
    "        color='sandybrown')\n",
    "plt.title('People Accompanying Applicant', y=1.025, fontsize=18)\n",
    "plt.ylabel('Count of Applicants')\n",
    "plt.show()"
   ]
  },
  {
   "cell_type": "markdown",
   "metadata": {},
   "source": [
    "##### 'NAME_EDUCATION_TYPE'"
   ]
  },
  {
   "cell_type": "code",
   "execution_count": 21,
   "metadata": {},
   "outputs": [
    {
     "data": {
      "image/png": "[encoded data removed]",
      "text/plain": [
       "<Figure size 1008x504 with 1 Axes>"
      ]
     },
     "metadata": {
      "needs_background": "light"
     },
     "output_type": "display_data"
    }
   ],
   "source": [
    "# Make a bar plot of all the education levels\n",
    "plt.figure(figsize=(14,7))\n",
    "plt.bar(app_df['NAME_EDUCATION_TYPE'].unique(),\n",
    "        height=app_df['NAME_EDUCATION_TYPE'].value_counts(),\n",
    "        align='center', \n",
    "        edgecolor='black',\n",
    "        color='mediumvioletred')\n",
    "plt.title('Education Levels', y=1.025, fontsize=18)\n",
    "plt.ylabel('Count of Applicants')\n",
    "plt.show()"
   ]
  },
  {
   "cell_type": "markdown",
   "metadata": {},
   "source": [
    "##### 'NAME_FAMILY_STATUS'"
   ]
  },
  {
   "cell_type": "code",
   "execution_count": 22,
   "metadata": {},
   "outputs": [
    {
     "data": {
      "image/png": "[encoded data removed]",
      "text/plain": [
       "<Figure size 1008x504 with 1 Axes>"
      ]
     },
     "metadata": {
      "needs_background": "light"
     },
     "output_type": "display_data"
    }
   ],
   "source": [
    "# Make a bar plot of all the family statuses\n",
    "plt.figure(figsize=(14,7))\n",
    "plt.bar(app_df['NAME_FAMILY_STATUS'].unique(),\n",
    "        height=app_df['NAME_FAMILY_STATUS'].value_counts(),\n",
    "        align='center', \n",
    "        edgecolor='black',\n",
    "        color='royalblue')\n",
    "plt.title('Family Status', y=1.025, fontsize=18)\n",
    "plt.ylabel('Count of Applicants')\n",
    "plt.show()"
   ]
  },
  {
   "cell_type": "markdown",
   "metadata": {},
   "source": [
    "##### 'NAME_HOUSING_TYPE'"
   ]
  },
  {
   "cell_type": "code",
   "execution_count": 23,
   "metadata": {},
   "outputs": [
    {
     "data": {
      "image/png": "[encoded data removed]",
      "text/plain": [
       "<Figure size 720x720 with 1 Axes>"
      ]
     },
     "metadata": {},
     "output_type": "display_data"
    }
   ],
   "source": [
    "plt.figure(figsize=(10,10))\n",
    "plt.pie(\n",
    "    app_df['NAME_HOUSING_TYPE'].value_counts(),\n",
    "    labels=['House / apartment', 'With parents', 'Municipal apartment', 'Rented apartment',\n",
    "            'Office apartment', 'Co-op apartment'],\n",
    "    autopct='%1.1f%%',\n",
    "    shadow=True,\n",
    "    pctdistance=1.1,\n",
    "    labeldistance=1.2)\n",
    "\n",
    "plt.title('Housing Situation', fontsize=18)\n",
    "plt.rcParams[\"axes.labelweight\"] = \"bold\"\n",
    "plt.show()"
   ]
  },
  {
   "cell_type": "markdown",
   "metadata": {},
   "source": [
    "##### 'DAYS_BIRTH'"
   ]
  },
  {
   "cell_type": "markdown",
   "metadata": {},
   "source": [
    "Since this variable tells us the days since birth relative to the day of their application, I'm going to take the absolute value of it to get a number that makes more sense for a graph. Then we can divide by 365 to calculate people's age in years when they applied."
   ]
  },
  {
   "cell_type": "code",
   "execution_count": 24,
   "metadata": {},
   "outputs": [
    {
     "data": {
      "image/png": "[encoded data removed]",
      "text/plain": [
       "<Figure size 1008x504 with 1 Axes>"
      ]
     },
     "metadata": {
      "needs_background": "light"
     },
     "output_type": "display_data"
    }
   ],
   "source": [
    "# Take the absolute value of days birth\n",
    "app_df.loc[:, 'DAYS_BIRTH'] = abs(app_df['DAYS_BIRTH'])\n",
    "\n",
    "# Create a dataframe to store years\n",
    "years_birth = pd.DataFrame()\n",
    "\n",
    "# Calculate the age of each person and round it to an integer\n",
    "years_birth['YEARS_BIRTH'] = (app_df['DAYS_BIRTH'] / 365)\n",
    "years_birth['YEARS_BIRTH'] = [round(x) for x in years_birth['YEARS_BIRTH']]\n",
    "\n",
    "# Make a bar plot\n",
    "plt.figure(figsize=(14,7))\n",
    "plt.bar(years_birth['YEARS_BIRTH'].unique(),\n",
    "        height=years_birth['YEARS_BIRTH'].value_counts(),\n",
    "        align='center', \n",
    "        edgecolor='black',\n",
    "        color='mediumturquoise')\n",
    "plt.title('Age of Applicants', y=1.025, fontsize=18)\n",
    "plt.ylabel('Count of Applicants')\n",
    "plt.xticks(range(20,72,4))\n",
    "plt.show()"
   ]
  },
  {
   "cell_type": "markdown",
   "metadata": {},
   "source": [
    "##### 'DAYS_EMPLOYED'"
   ]
  },
  {
   "cell_type": "markdown",
   "metadata": {},
   "source": [
    "Similarly to the days since birth column, this one is also negative. I'll repeat the same process as above to convert to years."
   ]
  },
  {
   "cell_type": "code",
   "execution_count": 25,
   "metadata": {},
   "outputs": [
    {
     "data": {
      "image/png": "[encoded data removed]",
      "text/plain": [
       "<Figure size 1008x504 with 1 Axes>"
      ]
     },
     "metadata": {
      "needs_background": "light"
     },
     "output_type": "display_data"
    }
   ],
   "source": [
    "# Take the absolute value of days birth\n",
    "app_df.loc[:, 'DAYS_EMPLOYED'] = abs(app_df['DAYS_EMPLOYED'])\n",
    "\n",
    "# Create a dataframe to store years\n",
    "years_emp = pd.DataFrame()\n",
    "\n",
    "# Calculate the age of each person and round it to an integer\n",
    "years_emp['YEARS_EMPLOYED'] = (app_df['DAYS_EMPLOYED'] / 365)\n",
    "years_emp['YEARS_EMPLOYED'] = [round(x) for x in years_emp['YEARS_EMPLOYED']]\n",
    "\n",
    "# Make a bar plot\n",
    "plt.figure(figsize=(14,7))\n",
    "plt.bar(years_emp['YEARS_EMPLOYED'].unique(),\n",
    "        height=years_emp['YEARS_EMPLOYED'].value_counts(),\n",
    "        align='center', \n",
    "        edgecolor='black',\n",
    "        color='forestgreen')\n",
    "plt.title('Years Spent at Current Employment', y=1.025, fontsize=18)\n",
    "plt.ylabel('Count of Applicants')\n",
    "#plt.xticks(range(20,72,4))\n",
    "plt.show()"
   ]
  },
  {
   "cell_type": "markdown",
   "metadata": {},
   "source": [
    "This shows us that there is a very strange outlier in this column. For some reason there is a group of people with unrealistically high numbers of days employed. Let's see how many of these outliers there are before we take any action. One thing that I found is that these outliers were all given the same number, so this must have been a way to identify them in the company's system. By finding out how many of them match the maximum amount we have found we can get a number on how many outliers fit this category."
   ]
  },
  {
   "cell_type": "code",
   "execution_count": 26,
   "metadata": {},
   "outputs": [
    {
     "name": "stdout",
     "output_type": "stream",
     "text": [
      "There are 55374 applicants who claim to have been working for 365243 days.\n"
     ]
    }
   ],
   "source": [
    "# Find the length of the dataframe where the days employed is equal to the maximum of this column\n",
    "print(\"There are\", len(app_df[app_df['DAYS_EMPLOYED'] == app_df['DAYS_EMPLOYED'].max()]),\n",
    "                              \"applicants who claim to have been working for\", app_df['DAYS_EMPLOYED'].max(), \"days.\")"
   ]
  },
  {
   "cell_type": "markdown",
   "metadata": {},
   "source": [
    "The outlier in this variable has been found to have a value of 365,243 days. This isn't humanly possible as that's over 1,000 years! In order to deal with this I will create a flag for these applicants. Since there are so many of them, this could be interesting information. Then I will take anything that is matching this maximum value and set it to NaN for now."
   ]
  },
  {
   "cell_type": "code",
   "execution_count": 27,
   "metadata": {},
   "outputs": [],
   "source": [
    "# Create an anomalous flag column\n",
    "app_df['DAYS_EMPLOYED_ANOM'] = app_df[\"DAYS_EMPLOYED\"] == 365243\n",
    "\n",
    "# Replace the anomalous values with nan\n",
    "app_df['DAYS_EMPLOYED'].replace({365243: np.nan}, inplace = True)"
   ]
  },
  {
   "cell_type": "markdown",
   "metadata": {},
   "source": [
    "##### 'OWN_CAR_AGE'"
   ]
  },
  {
   "cell_type": "markdown",
   "metadata": {},
   "source": [
    "Since there is a flag whether somebody owns a car or not and this flag has no missing values, we can fill in any NA values for the age of somebody's car relative to this flag. If they don't own a car, set the age to zero. Following this, we can see how many empty spots are missing and potentially fill in the rest with the mode."
   ]
  },
  {
   "cell_type": "code",
   "execution_count": 28,
   "metadata": {},
   "outputs": [
    {
     "name": "stdout",
     "output_type": "stream",
     "text": [
      "There are 5 people left with a car but no age listed in this data set.\n"
     ]
    }
   ],
   "source": [
    "# Fill in anybody that doesn't have a car to have a car age of zero\n",
    "app_df.loc[app_df['FLAG_OWN_CAR'] == 'N', 'OWN_CAR_AGE'] = 0\n",
    "\n",
    "# See how many people are left with a car and an empty car age\n",
    "print(\"There are\", len(app_df[app_df['OWN_CAR_AGE'].isnull()]),\n",
    "                                                              \"people left with a car but no age listed in this data set.\")"
   ]
  },
  {
   "cell_type": "markdown",
   "metadata": {},
   "source": [
    "Since there are only 5 people in this set, assigning them with the mode of this column won't affect our data much."
   ]
  },
  {
   "cell_type": "code",
   "execution_count": 29,
   "metadata": {},
   "outputs": [],
   "source": [
    "# Fill in NaNs for the OWN_CAR_AGE column\n",
    "app_df['OWN_CAR_AGE'].fillna(value=app_df['OWN_CAR_AGE'].mode()[0], inplace=True)"
   ]
  },
  {
   "cell_type": "markdown",
   "metadata": {},
   "source": [
    "Now we can go ahead and graph the ages of people's cars."
   ]
  },
  {
   "cell_type": "code",
   "execution_count": 30,
   "metadata": {},
   "outputs": [
    {
     "data": {
      "image/png": "[encoded data removed]",
      "text/plain": [
       "<Figure size 1008x504 with 1 Axes>"
      ]
     },
     "metadata": {
      "needs_background": "light"
     },
     "output_type": "display_data"
    }
   ],
   "source": [
    "# Plot them out in a bar\n",
    "plt.figure(figsize=(14,7))\n",
    "plt.bar(app_df['OWN_CAR_AGE'].unique(),\n",
    "        height=app_df['OWN_CAR_AGE'].value_counts(),\n",
    "        align='center', \n",
    "        edgecolor='black',\n",
    "        color='salmon')\n",
    "\n",
    "plt.xticks(range(0,95,5))\n",
    "plt.title('Age of Applicant\\'s Cars', y=1.025, fontsize=18)\n",
    "plt.ylabel('Count of Applicants')\n",
    "plt.show()"
   ]
  },
  {
   "cell_type": "markdown",
   "metadata": {},
   "source": [
    "##### 'ORGANIZATION_TYPE'"
   ]
  },
  {
   "cell_type": "code",
   "execution_count": 31,
   "metadata": {},
   "outputs": [
    {
     "data": {
      "image/png": "[encoded data removed]",
      "text/plain": [
       "<Figure size 1008x504 with 1 Axes>"
      ]
     },
     "metadata": {
      "needs_background": "light"
     },
     "output_type": "display_data"
    }
   ],
   "source": [
    "# Make a bar plot\n",
    "plt.figure(figsize=(14,7))\n",
    "plt.bar(app_df['ORGANIZATION_TYPE'].unique(),\n",
    "        height=app_df['ORGANIZATION_TYPE'].value_counts(),\n",
    "        align='center', \n",
    "        edgecolor='black',\n",
    "        color='olivedrab')\n",
    "plt.title('Type of Organization Where Applicant Works', y=1.025, fontsize=18)\n",
    "plt.ylabel('Count of Applicants')\n",
    "plt.xticks(rotation=90)\n",
    "plt.show()"
   ]
  },
  {
   "cell_type": "markdown",
   "metadata": {},
   "source": [
    "### Some Invormative Histograms of the Credit Card Dataframe"
   ]
  },
  {
   "cell_type": "markdown",
   "metadata": {},
   "source": [
    "##### 'AMT_BALANCE'"
   ]
  },
  {
   "cell_type": "markdown",
   "metadata": {},
   "source": [
    "For this variable I would like to just focus on the balances on the most recent balance date, so I'll take a subset of the data to just include the \"freshest balance date\" (which is = -1 in this data)."
   ]
  },
  {
   "cell_type": "code",
   "execution_count": 32,
   "metadata": {},
   "outputs": [
    {
     "data": {
      "image/png": "[encoded data removed]",
      "text/plain": [
       "<Figure size 1008x504 with 1 Axes>"
      ]
     },
     "metadata": {
      "needs_background": "light"
     },
     "output_type": "display_data"
    },
    {
     "name": "stdout",
     "output_type": "stream",
     "text": [
      "The highest most recent credit card balance is 1210510.755 Czech Korunas\n"
     ]
    }
   ],
   "source": [
    "# Copy the information from the most recent balance dates into their own dataframe\n",
    "recent_balance = credit_df[credit_df['MONTHS_BALANCE'] == -1].copy()\n",
    "\n",
    "# Make a histogram with binned salary ranges\n",
    "plt.figure(figsize=(14,7))\n",
    "plt.hist(\n",
    "        recent_balance['AMT_BALANCE'],\n",
    "        bins=30,\n",
    "        edgecolor='black',\n",
    "        color='midnightblue')\n",
    "\n",
    "plt.xticks(range(0,1_300_000,100_000))\n",
    "plt.ylabel('Number of Applicants', fontsize=14)\n",
    "plt.title('Most Recent Credit Card Balances (In Czech Korunas)', y=1.025, fontsize=18) \n",
    "plt.show()\n",
    "\n",
    "print(\"The highest most recent credit card balance is\", recent_balance['AMT_BALANCE'].max(), \"Czech Korunas\")"
   ]
  },
  {
   "cell_type": "markdown",
   "metadata": {},
   "source": [
    "One thing to make note of here is that the company that this data is from is located in the Czech Republic, so there aren't hundreds of people with over 500,000 USD in credit card debt. In fact the highest recorded balance (printed out above) converts to approximately $52,634.14 US Dollars (given the exchange rate in October 2019)."
   ]
  },
  {
   "cell_type": "markdown",
   "metadata": {},
   "source": [
    "##### 'NAME_CONTRACT_STATUS'"
   ]
  },
  {
   "cell_type": "markdown",
   "metadata": {},
   "source": [
    "For this variable I am going to use just the most recent balance history again, otherwise we would overcount the number of applicants that are in each stage of contract at the time of applying."
   ]
  },
  {
   "cell_type": "code",
   "execution_count": 33,
   "metadata": {},
   "outputs": [
    {
     "data": {
      "image/png": "[encoded data removed]",
      "text/plain": [
       "<Figure size 1008x504 with 1 Axes>"
      ]
     },
     "metadata": {
      "needs_background": "light"
     },
     "output_type": "display_data"
    }
   ],
   "source": [
    "# Make a bar plot\n",
    "plt.figure(figsize=(14,7))\n",
    "plt.bar(recent_balance['NAME_CONTRACT_STATUS'].unique(),\n",
    "        height=recent_balance['NAME_CONTRACT_STATUS'].value_counts(),\n",
    "        align='center', \n",
    "        edgecolor='black',\n",
    "        color='firebrick')\n",
    "plt.title('Contract Status on Credit', y=1.025, fontsize=18)\n",
    "plt.ylabel('Count of Applicants')\n",
    "plt.show()"
   ]
  },
  {
   "cell_type": "markdown",
   "metadata": {},
   "source": [
    "### Filling in Empty Values for Main Dataframe"
   ]
  },
  {
   "cell_type": "code",
   "execution_count": 34,
   "metadata": {},
   "outputs": [
    {
     "name": "stdout",
     "output_type": "stream",
     "text": [
      "Dataframe has 63 columns.\n",
      "There are 29 columns with missing values.\n"
     ]
    },
    {
     "data": {
      "text/html": [
       "<div>\n",
       "<style scoped>\n",
       "    .dataframe tbody tr th:only-of-type {\n",
       "        vertical-align: middle;\n",
       "    }\n",
       "\n",
       "    .dataframe tbody tr th {\n",
       "        vertical-align: top;\n",
       "    }\n",
       "\n",
       "    .dataframe thead th {\n",
       "        text-align: right;\n",
       "    }\n",
       "</style>\n",
       "<table border=\"1\" class=\"dataframe\">\n",
       "  <thead>\n",
       "    <tr style=\"text-align: right;\">\n",
       "      <th></th>\n",
       "      <th>Missing Values</th>\n",
       "      <th>% of Total Values</th>\n",
       "    </tr>\n",
       "  </thead>\n",
       "  <tbody>\n",
       "    <tr>\n",
       "      <th>COMMONAREA_AVG</th>\n",
       "      <td>214865</td>\n",
       "      <td>69.9</td>\n",
       "    </tr>\n",
       "    <tr>\n",
       "      <th>NONLIVINGAPARTMENTS_AVG</th>\n",
       "      <td>213514</td>\n",
       "      <td>69.4</td>\n",
       "    </tr>\n",
       "    <tr>\n",
       "      <th>LIVINGAPARTMENTS_AVG</th>\n",
       "      <td>210199</td>\n",
       "      <td>68.4</td>\n",
       "    </tr>\n",
       "    <tr>\n",
       "      <th>FLOORSMIN_AVG</th>\n",
       "      <td>208642</td>\n",
       "      <td>67.8</td>\n",
       "    </tr>\n",
       "    <tr>\n",
       "      <th>YEARS_BUILD_AVG</th>\n",
       "      <td>204488</td>\n",
       "      <td>66.5</td>\n",
       "    </tr>\n",
       "    <tr>\n",
       "      <th>LANDAREA_AVG</th>\n",
       "      <td>182590</td>\n",
       "      <td>59.4</td>\n",
       "    </tr>\n",
       "    <tr>\n",
       "      <th>BASEMENTAREA_AVG</th>\n",
       "      <td>179943</td>\n",
       "      <td>58.5</td>\n",
       "    </tr>\n",
       "    <tr>\n",
       "      <th>NONLIVINGAREA_AVG</th>\n",
       "      <td>169682</td>\n",
       "      <td>55.2</td>\n",
       "    </tr>\n",
       "    <tr>\n",
       "      <th>ELEVATORS_AVG</th>\n",
       "      <td>163891</td>\n",
       "      <td>53.3</td>\n",
       "    </tr>\n",
       "    <tr>\n",
       "      <th>APARTMENTS_AVG</th>\n",
       "      <td>156061</td>\n",
       "      <td>50.7</td>\n",
       "    </tr>\n",
       "    <tr>\n",
       "      <th>ENTRANCES_AVG</th>\n",
       "      <td>154828</td>\n",
       "      <td>50.3</td>\n",
       "    </tr>\n",
       "    <tr>\n",
       "      <th>LIVINGAREA_AVG</th>\n",
       "      <td>154350</td>\n",
       "      <td>50.2</td>\n",
       "    </tr>\n",
       "    <tr>\n",
       "      <th>FLOORSMAX_AVG</th>\n",
       "      <td>153020</td>\n",
       "      <td>49.8</td>\n",
       "    </tr>\n",
       "    <tr>\n",
       "      <th>YEARS_BEGINEXPLUATATION_AVG</th>\n",
       "      <td>150007</td>\n",
       "      <td>48.8</td>\n",
       "    </tr>\n",
       "    <tr>\n",
       "      <th>OCCUPATION_TYPE</th>\n",
       "      <td>96391</td>\n",
       "      <td>31.3</td>\n",
       "    </tr>\n",
       "    <tr>\n",
       "      <th>DAYS_EMPLOYED</th>\n",
       "      <td>55374</td>\n",
       "      <td>18.0</td>\n",
       "    </tr>\n",
       "    <tr>\n",
       "      <th>AMT_REQ_CREDIT_BUREAU_HOUR</th>\n",
       "      <td>41519</td>\n",
       "      <td>13.5</td>\n",
       "    </tr>\n",
       "    <tr>\n",
       "      <th>AMT_REQ_CREDIT_BUREAU_MON</th>\n",
       "      <td>41519</td>\n",
       "      <td>13.5</td>\n",
       "    </tr>\n",
       "    <tr>\n",
       "      <th>AMT_REQ_CREDIT_BUREAU_QRT</th>\n",
       "      <td>41519</td>\n",
       "      <td>13.5</td>\n",
       "    </tr>\n",
       "    <tr>\n",
       "      <th>AMT_REQ_CREDIT_BUREAU_WEEK</th>\n",
       "      <td>41519</td>\n",
       "      <td>13.5</td>\n",
       "    </tr>\n",
       "    <tr>\n",
       "      <th>AMT_REQ_CREDIT_BUREAU_DAY</th>\n",
       "      <td>41519</td>\n",
       "      <td>13.5</td>\n",
       "    </tr>\n",
       "    <tr>\n",
       "      <th>AMT_REQ_CREDIT_BUREAU_YEAR</th>\n",
       "      <td>41519</td>\n",
       "      <td>13.5</td>\n",
       "    </tr>\n",
       "    <tr>\n",
       "      <th>OBS_60_CNT_SOCIAL_CIRCLE</th>\n",
       "      <td>1021</td>\n",
       "      <td>0.3</td>\n",
       "    </tr>\n",
       "    <tr>\n",
       "      <th>DEF_30_CNT_SOCIAL_CIRCLE</th>\n",
       "      <td>1021</td>\n",
       "      <td>0.3</td>\n",
       "    </tr>\n",
       "    <tr>\n",
       "      <th>OBS_30_CNT_SOCIAL_CIRCLE</th>\n",
       "      <td>1021</td>\n",
       "      <td>0.3</td>\n",
       "    </tr>\n",
       "    <tr>\n",
       "      <th>AMT_GOODS_PRICE</th>\n",
       "      <td>278</td>\n",
       "      <td>0.1</td>\n",
       "    </tr>\n",
       "    <tr>\n",
       "      <th>AMT_ANNUITY</th>\n",
       "      <td>12</td>\n",
       "      <td>0.0</td>\n",
       "    </tr>\n",
       "    <tr>\n",
       "      <th>CNT_FAM_MEMBERS</th>\n",
       "      <td>2</td>\n",
       "      <td>0.0</td>\n",
       "    </tr>\n",
       "    <tr>\n",
       "      <th>DAYS_LAST_PHONE_CHANGE</th>\n",
       "      <td>1</td>\n",
       "      <td>0.0</td>\n",
       "    </tr>\n",
       "  </tbody>\n",
       "</table>\n",
       "</div>"
      ],
      "text/plain": [
       "                             Missing Values  % of Total Values\n",
       "COMMONAREA_AVG                       214865               69.9\n",
       "NONLIVINGAPARTMENTS_AVG              213514               69.4\n",
       "LIVINGAPARTMENTS_AVG                 210199               68.4\n",
       "FLOORSMIN_AVG                        208642               67.8\n",
       "YEARS_BUILD_AVG                      204488               66.5\n",
       "LANDAREA_AVG                         182590               59.4\n",
       "BASEMENTAREA_AVG                     179943               58.5\n",
       "NONLIVINGAREA_AVG                    169682               55.2\n",
       "ELEVATORS_AVG                        163891               53.3\n",
       "APARTMENTS_AVG                       156061               50.7\n",
       "ENTRANCES_AVG                        154828               50.3\n",
       "LIVINGAREA_AVG                       154350               50.2\n",
       "FLOORSMAX_AVG                        153020               49.8\n",
       "YEARS_BEGINEXPLUATATION_AVG          150007               48.8\n",
       "OCCUPATION_TYPE                       96391               31.3\n",
       "DAYS_EMPLOYED                         55374               18.0\n",
       "AMT_REQ_CREDIT_BUREAU_HOUR            41519               13.5\n",
       "AMT_REQ_CREDIT_BUREAU_MON             41519               13.5\n",
       "AMT_REQ_CREDIT_BUREAU_QRT             41519               13.5\n",
       "AMT_REQ_CREDIT_BUREAU_WEEK            41519               13.5\n",
       "AMT_REQ_CREDIT_BUREAU_DAY             41519               13.5\n",
       "AMT_REQ_CREDIT_BUREAU_YEAR            41519               13.5\n",
       "OBS_60_CNT_SOCIAL_CIRCLE               1021                0.3\n",
       "DEF_30_CNT_SOCIAL_CIRCLE               1021                0.3\n",
       "OBS_30_CNT_SOCIAL_CIRCLE               1021                0.3\n",
       "AMT_GOODS_PRICE                         278                0.1\n",
       "AMT_ANNUITY                              12                0.0\n",
       "CNT_FAM_MEMBERS                           2                0.0\n",
       "DAYS_LAST_PHONE_CHANGE                    1                0.0"
      ]
     },
     "execution_count": 34,
     "metadata": {},
     "output_type": "execute_result"
    }
   ],
   "source": [
    "# Missing values statistics for the data\n",
    "missing_values = perc_missing_vals(app_df)\n",
    "missing_values.head(31)"
   ]
  },
  {
   "cell_type": "markdown",
   "metadata": {},
   "source": [
    "The first thing I notice with all of the missing values, is that the largest percentages of them are related to averages given to the buildings where clients live. If we group by the type of housing reported by each applicant, which doesn't have any empty variables, we can fill in these missing values with the averages given by their respective housing types."
   ]
  },
  {
   "cell_type": "code",
   "execution_count": 35,
   "metadata": {},
   "outputs": [],
   "source": [
    "# Make a list of the columns with averages of building information\n",
    "building_avgs = ['COMMONAREA_AVG', 'NONLIVINGAPARTMENTS_AVG', 'LIVINGAPARTMENTS_AVG', 'FLOORSMIN_AVG',\n",
    "                'YEARS_BUILD_AVG', 'LANDAREA_AVG', 'BASEMENTAREA_AVG', 'NONLIVINGAREA_AVG', 'ELEVATORS_AVG',\n",
    "                'APARTMENTS_AVG', 'ENTRANCES_AVG', 'LIVINGAREA_AVG', 'FLOORSMAX_AVG', 'YEARS_BEGINEXPLUATATION_AVG']\n",
    "\n",
    "# Iterate through the list and fill in missing values for each based on the housing type group they're in\n",
    "for avg_col in building_avgs:\n",
    "    # Group by the housing type and fill in the average of each\n",
    "    app_df[avg_col] = app_df.groupby(['NAME_HOUSING_TYPE'], sort=False)[avg_col].apply(lambda x: x.fillna(x.mean()))"
   ]
  },
  {
   "cell_type": "markdown",
   "metadata": {},
   "source": [
    "There are also a cluster of variables that start with \"AMT_\" that are showing us the number of inquiries made by the applicants before the application was filled out, varying by the amount of time each variable looks at (hours, days, months, etc). Since we have already created flags that tell us if the applicant has loans on file ('BUREAU_FLAG'), we can use those to group by and then fill in the number of inquiries based on that grouping."
   ]
  },
  {
   "cell_type": "code",
   "execution_count": 36,
   "metadata": {},
   "outputs": [],
   "source": [
    "# Create a list of inquiry variables to iterate over\n",
    "inquiry_list = ['AMT_REQ_CREDIT_BUREAU_HOUR', 'AMT_REQ_CREDIT_BUREAU_DAY', 'AMT_REQ_CREDIT_BUREAU_WEEK',\n",
    "               'AMT_REQ_CREDIT_BUREAU_MON', 'AMT_REQ_CREDIT_BUREAU_QRT', 'AMT_REQ_CREDIT_BUREAU_YEAR']\n",
    "\n",
    "# Iterate thorugh the list of inquiry variables and fill in their averages based on past loan experience\n",
    "for colmn in inquiry_list:\n",
    "    app_df[colmn] = app_df.groupby(['BUREAU_FLAG'], sort=False)[colmn].apply(lambda x: x.fillna(x.mean()))"
   ]
  },
  {
   "cell_type": "markdown",
   "metadata": {},
   "source": [
    "We should also fill out the 'DAYS_EMPLOYED' variable, but first let's check out what sort of people are getting null values for this column."
   ]
  },
  {
   "cell_type": "code",
   "execution_count": 37,
   "metadata": {},
   "outputs": [
    {
     "data": {
      "text/plain": [
       "array(['Pensioner', 'Unemployed'], dtype=object)"
      ]
     },
     "execution_count": 37,
     "metadata": {},
     "output_type": "execute_result"
    }
   ],
   "source": [
    "app_df[app_df['DAYS_EMPLOYED'].isnull()]['NAME_INCOME_TYPE'].unique()"
   ]
  },
  {
   "cell_type": "markdown",
   "metadata": {},
   "source": [
    "Considering the only people with missing values in days employed are pensioners or the unemployed, it's safe to fill these values in with zero."
   ]
  },
  {
   "cell_type": "code",
   "execution_count": 38,
   "metadata": {},
   "outputs": [],
   "source": [
    "# Set number of days employed to zero when it is empty\n",
    "app_df['DAYS_EMPLOYED'].fillna(0, inplace=True)"
   ]
  },
  {
   "cell_type": "markdown",
   "metadata": {},
   "source": [
    "The last large percentage of missing values comes from the Occupation Type variable, which tells us what kind of occupation the client has. However, this one didn't have any obvious connections to other variables, and because there is a little over 30% that are missing, I decided to simply interpolate using the \"pad\" method for this case."
   ]
  },
  {
   "cell_type": "code",
   "execution_count": 39,
   "metadata": {
    "scrolled": false
   },
   "outputs": [],
   "source": [
    "# Group by the Income Type and fill in the mode for Occupation Type\n",
    "app_df['OCCUPATION_TYPE'] = app_df['OCCUPATION_TYPE'].interpolate(method='pad')"
   ]
  },
  {
   "cell_type": "markdown",
   "metadata": {},
   "source": [
    "Following all of the above, the only variables left have 0.3% of missing values or less, so I think it's appropriate to simply fill these in with the averages of their columns."
   ]
  },
  {
   "cell_type": "code",
   "execution_count": 40,
   "metadata": {},
   "outputs": [],
   "source": [
    "# Make a list of the variables still left over\n",
    "misc_missing = ['OBS_30_CNT_SOCIAL_CIRCLE', 'DEF_30_CNT_SOCIAL_CIRCLE', 'OBS_60_CNT_SOCIAL_CIRCLE',\n",
    "               'AMT_GOODS_PRICE', 'AMT_ANNUITY', 'CNT_FAM_MEMBERS', 'DAYS_LAST_PHONE_CHANGE']\n",
    "\n",
    "# Iterate over list and fill in averages\n",
    "for misc in misc_missing:\n",
    "    app_df[misc].fillna(app_df[misc].mean(), inplace=True)"
   ]
  },
  {
   "cell_type": "code",
   "execution_count": 41,
   "metadata": {},
   "outputs": [
    {
     "name": "stdout",
     "output_type": "stream",
     "text": [
      "Dataframe has 63 columns.\n",
      "There are 0 columns with missing values.\n"
     ]
    }
   ],
   "source": [
    "# Missing values statistics for the data\n",
    "missing_values = perc_missing_vals(app_df)"
   ]
  },
  {
   "cell_type": "markdown",
   "metadata": {},
   "source": [
    "### Filling in Empty Values for Credit Card Information"
   ]
  },
  {
   "cell_type": "code",
   "execution_count": 42,
   "metadata": {},
   "outputs": [
    {
     "name": "stdout",
     "output_type": "stream",
     "text": [
      "Dataframe has 23 columns.\n",
      "There are 9 columns with missing values.\n"
     ]
    },
    {
     "data": {
      "text/html": [
       "<div>\n",
       "<style scoped>\n",
       "    .dataframe tbody tr th:only-of-type {\n",
       "        vertical-align: middle;\n",
       "    }\n",
       "\n",
       "    .dataframe tbody tr th {\n",
       "        vertical-align: top;\n",
       "    }\n",
       "\n",
       "    .dataframe thead th {\n",
       "        text-align: right;\n",
       "    }\n",
       "</style>\n",
       "<table border=\"1\" class=\"dataframe\">\n",
       "  <thead>\n",
       "    <tr style=\"text-align: right;\">\n",
       "      <th></th>\n",
       "      <th>Missing Values</th>\n",
       "      <th>% of Total Values</th>\n",
       "    </tr>\n",
       "  </thead>\n",
       "  <tbody>\n",
       "    <tr>\n",
       "      <th>AMT_PAYMENT_CURRENT</th>\n",
       "      <td>767988</td>\n",
       "      <td>20.0</td>\n",
       "    </tr>\n",
       "    <tr>\n",
       "      <th>AMT_DRAWINGS_ATM_CURRENT</th>\n",
       "      <td>749816</td>\n",
       "      <td>19.5</td>\n",
       "    </tr>\n",
       "    <tr>\n",
       "      <th>AMT_DRAWINGS_OTHER_CURRENT</th>\n",
       "      <td>749816</td>\n",
       "      <td>19.5</td>\n",
       "    </tr>\n",
       "    <tr>\n",
       "      <th>AMT_DRAWINGS_POS_CURRENT</th>\n",
       "      <td>749816</td>\n",
       "      <td>19.5</td>\n",
       "    </tr>\n",
       "    <tr>\n",
       "      <th>CNT_DRAWINGS_ATM_CURRENT</th>\n",
       "      <td>749816</td>\n",
       "      <td>19.5</td>\n",
       "    </tr>\n",
       "    <tr>\n",
       "      <th>CNT_DRAWINGS_OTHER_CURRENT</th>\n",
       "      <td>749816</td>\n",
       "      <td>19.5</td>\n",
       "    </tr>\n",
       "    <tr>\n",
       "      <th>CNT_DRAWINGS_POS_CURRENT</th>\n",
       "      <td>749816</td>\n",
       "      <td>19.5</td>\n",
       "    </tr>\n",
       "    <tr>\n",
       "      <th>AMT_INST_MIN_REGULARITY</th>\n",
       "      <td>305236</td>\n",
       "      <td>7.9</td>\n",
       "    </tr>\n",
       "    <tr>\n",
       "      <th>CNT_INSTALMENT_MATURE_CUM</th>\n",
       "      <td>305236</td>\n",
       "      <td>7.9</td>\n",
       "    </tr>\n",
       "  </tbody>\n",
       "</table>\n",
       "</div>"
      ],
      "text/plain": [
       "                            Missing Values  % of Total Values\n",
       "AMT_PAYMENT_CURRENT                 767988               20.0\n",
       "AMT_DRAWINGS_ATM_CURRENT            749816               19.5\n",
       "AMT_DRAWINGS_OTHER_CURRENT          749816               19.5\n",
       "AMT_DRAWINGS_POS_CURRENT            749816               19.5\n",
       "CNT_DRAWINGS_ATM_CURRENT            749816               19.5\n",
       "CNT_DRAWINGS_OTHER_CURRENT          749816               19.5\n",
       "CNT_DRAWINGS_POS_CURRENT            749816               19.5\n",
       "AMT_INST_MIN_REGULARITY             305236                7.9\n",
       "CNT_INSTALMENT_MATURE_CUM           305236                7.9"
      ]
     },
     "execution_count": 42,
     "metadata": {},
     "output_type": "execute_result"
    }
   ],
   "source": [
    "# Missing values statistics for the credit card data\n",
    "missing_values = perc_missing_vals(credit_df)\n",
    "missing_values.head(31)"
   ]
  },
  {
   "cell_type": "markdown",
   "metadata": {},
   "source": [
    "The variable with the most missing values in the credit card information is AMT_PAYMENT_CURRENT, which tells us how much the client paid during the previous period. However, if their previous balance is zero then they wouldn't have to make any payment that month. So let's fill in what we can using that information."
   ]
  },
  {
   "cell_type": "code",
   "execution_count": 43,
   "metadata": {},
   "outputs": [],
   "source": [
    "# When the AMT_BALANCE = 0 and the AMT_PAYMENT_CURRENT is empty, fill it with zero\n",
    "credit_df.loc[(credit_df['AMT_PAYMENT_CURRENT'].isnull()) & (credit_df['AMT_BALANCE'] == 0), 'AMT_PAYMENT_CURRENT'] = 0"
   ]
  },
  {
   "cell_type": "markdown",
   "metadata": {},
   "source": [
    "It looks like we have 19.5% missing values for a number of variables regarding the amount of drawings from the credit accounts, as well as the count of drawings from the credit accounts, but these missing values are only empty in the specific columns and not the aggregate ones. Therefore, we can say that if the aggregate amount withdrawn (or the aggregate count of times withdrawn) is equal to zero, then all of the subcategories are equal to zero as well. Let's fill those cases in now."
   ]
  },
  {
   "cell_type": "code",
   "execution_count": 44,
   "metadata": {},
   "outputs": [],
   "source": [
    "# Create a list of all the missing values in withdrawal variables\n",
    "draw_amt_list = ['AMT_DRAWINGS_ATM_CURRENT', 'AMT_DRAWINGS_OTHER_CURRENT', 'AMT_DRAWINGS_POS_CURRENT']\n",
    "\n",
    "draw_cnt_list = ['CNT_DRAWINGS_ATM_CURRENT', 'CNT_DRAWINGS_OTHER_CURRENT', 'CNT_DRAWINGS_POS_CURRENT']\n",
    "\n",
    "# Loop through these lists and replace NaN with zero when appropriate\n",
    "for amt in draw_amt_list:\n",
    "    credit_df.loc[(credit_df[amt].isnull()) & (credit_df['AMT_DRAWINGS_CURRENT'] == 0), amt] = 0\n",
    "\n",
    "for cnt in draw_cnt_list:\n",
    "    credit_df.loc[(credit_df[cnt].isnull()) & (credit_df['CNT_DRAWINGS_CURRENT'] == 0), cnt] = 0"
   ]
  },
  {
   "cell_type": "markdown",
   "metadata": {},
   "source": [
    "Now we can look at the 'AMT_INST_MIN_REGULARITY' variable. This tells us the minimal installment for this month on previous credit. Let's fill in any values that didn't have any payments as zero."
   ]
  },
  {
   "cell_type": "code",
   "execution_count": 45,
   "metadata": {},
   "outputs": [],
   "source": [
    "# When the minimal installment is empty and there is no balance in the previous month, mark minimal installment as zero\n",
    "credit_df.loc[(credit_df['AMT_INST_MIN_REGULARITY'].isnull()) & (credit_df['AMT_BALANCE'] == 0),\n",
    "                                                                                      'AMT_INST_MIN_REGULARITY'] = 0"
   ]
  },
  {
   "cell_type": "markdown",
   "metadata": {},
   "source": [
    "This got rid of the majority of these missing values (0.8% are missing now as opposed to 7.9% before), but there still are a few left. To deal with these, we can sort the dataframe by the applicants' current ID numbers and by the months of their balances, then interpolate over the minimum payments they made in surrounding months."
   ]
  },
  {
   "cell_type": "code",
   "execution_count": 46,
   "metadata": {},
   "outputs": [],
   "source": [
    "# Sort by the applicant's ID, and then the month of the balance to get all rows in line\n",
    "credit_df = credit_df.sort_values(by=['SK_ID_CURR', 'MONTHS_BALANCE'], ascending=False)\n",
    "\n",
    "# Then interpolate minimum payment linearly from surrounding payment data of applicant\n",
    "credit_df['AMT_INST_MIN_REGULARITY'].interpolate(method='linear', inplace=True)"
   ]
  },
  {
   "cell_type": "markdown",
   "metadata": {},
   "source": [
    "Next we can tackle the 'CNT_INSTALMENT_MATURE_CUM' variable, which tells us the number of paid installments on the previous credit. Since this dataframe is already sorted by the ID and the order of monthly balances, we can simply interpolate linearly over their number of installments."
   ]
  },
  {
   "cell_type": "code",
   "execution_count": 47,
   "metadata": {},
   "outputs": [],
   "source": [
    "# Then interpolate minimum payment linearly from surrounding payment data of applicant\n",
    "credit_df['CNT_INSTALMENT_MATURE_CUM'].interpolate(method='linear', inplace=True)"
   ]
  },
  {
   "cell_type": "markdown",
   "metadata": {},
   "source": [
    "Finally we can fill in the values for the 'AMT_PAYMENT_CURRENT' variable. This tells us how much the client paid during the month on their previous credit. Most clients in this data set have a level monthly payment, so we can feel safe filling in these empty values by taking the average of their payment amounts to estimate the missing months."
   ]
  },
  {
   "cell_type": "code",
   "execution_count": 48,
   "metadata": {},
   "outputs": [],
   "source": [
    "# Group by the current ID number and fill in NaN values with the client's average payment\n",
    "credit_df['AMT_PAYMENT_CURRENT'] = credit_df.groupby(['SK_ID_CURR'], sort=False)['AMT_PAYMENT_CURRENT'].apply(lambda x: x.fillna(x.mean()))"
   ]
  },
  {
   "cell_type": "markdown",
   "metadata": {},
   "source": [
    "Following this, since there are only 316 missing payment values left out of 3.8 million payments, and the dataframe is already sorted by IDs, I'll interpolate linearly to fill in the final gaps."
   ]
  },
  {
   "cell_type": "code",
   "execution_count": 49,
   "metadata": {},
   "outputs": [],
   "source": [
    "# Then interpolate linearly from surrounding payment data of applicant\n",
    "credit_df['AMT_PAYMENT_CURRENT'].interpolate(method='linear', inplace=True)"
   ]
  },
  {
   "cell_type": "code",
   "execution_count": 50,
   "metadata": {},
   "outputs": [
    {
     "name": "stdout",
     "output_type": "stream",
     "text": [
      "Dataframe has 23 columns.\n",
      "There are 0 columns with missing values.\n"
     ]
    }
   ],
   "source": [
    "# Missing values statistics for the cc data\n",
    "missing_values = perc_missing_vals(credit_df)"
   ]
  },
  {
   "cell_type": "markdown",
   "metadata": {},
   "source": [
    "### Looking for Anomalies/Outliers"
   ]
  },
  {
   "cell_type": "markdown",
   "metadata": {},
   "source": [
    "Now we need to detect outliers and assess if they need to be dealt with or if they seem reasonable. First I'll create a list of all of the numeric columns, then I can iterate over it and produce a myriad of box plots."
   ]
  },
  {
   "cell_type": "code",
   "execution_count": 51,
   "metadata": {},
   "outputs": [],
   "source": [
    "# Pick up all of the column names for both int types and floating variables\n",
    "numeric_cols = app_df.select_dtypes('int32').columns.tolist()\n",
    "numeric_cols.extend(app_df.select_dtypes('int64').columns.tolist())\n",
    "numeric_cols.extend(app_df.select_dtypes('float').columns.tolist())\n",
    "\n",
    "# Sort the list for ease of reference later\n",
    "numeric_cols.sort()"
   ]
  },
  {
   "cell_type": "code",
   "execution_count": 52,
   "metadata": {
    "scrolled": false
   },
   "outputs": [
    {
     "data": {
      "image/png": "[encoded data removed]",
      "text/plain": [
       "<Figure size 1008x2016 with 50 Axes>"
      ]
     },
     "metadata": {
      "needs_background": "light"
     },
     "output_type": "display_data"
    }
   ],
   "source": [
    "plt.figure(figsize=(14,28))\n",
    "\n",
    "# Iterate over the column names and create boxplots for each one\n",
    "for colm in numeric_cols:\n",
    "    plt.subplot(13, 4, numeric_cols.index(colm) + 1)\n",
    "    plt.boxplot(app_df[colm], whis=5)\n",
    "    plt.title(\"{}\".format(colm))\n",
    "\n",
    "plt.suptitle('Box Plots of All Numeric Columns (whis=5)', y=1.02, fontsize=18)\n",
    "plt.tight_layout()\n",
    "plt.show()"
   ]
  },
  {
   "cell_type": "markdown",
   "metadata": {},
   "source": [
    "Since there seems to be quite a few variables with a number of outliers, let's make a list of all of the variables in question. We can clearly get skip over anything that's a flag of variable with a binary outcome, such as the Target. There were also a number of variables that were normalized in the data set already (the variables that show the averages/modes/medians of building data) so I'll skip over those too."
   ]
  },
  {
   "cell_type": "code",
   "execution_count": 53,
   "metadata": {},
   "outputs": [],
   "source": [
    "outlier_list = ['AMT_ANNUITY', 'AMT_CREDIT', 'AMT_GOODS_PRICE', 'AMT_INCOME_TOTAL', 'AMT_REQ_CREDIT_BUREAU_DAY',\n",
    "                'AMT_REQ_CREDIT_BUREAU_HOUR', 'AMT_REQ_CREDIT_BUREAU_MON', 'AMT_REQ_CREDIT_BUREAU_QRT',\n",
    "                'AMT_REQ_CREDIT_BUREAU_WEEK', 'AMT_REQ_CREDIT_BUREAU_YEAR',\n",
    "                'CNT_CHILDREN', 'CNT_FAM_MEMBERS', 'DAYS_EMPLOYED', 'DEF_30_CNT_SOCIAL_CIRCLE',\n",
    "                'OBS_30_CNT_SOCIAL_CIRCLE', 'OBS_60_CNT_SOCIAL_CIRCLE', 'OWN_CAR_AGE']"
   ]
  },
  {
   "cell_type": "markdown",
   "metadata": {},
   "source": [
    "Now we can take care of most of these outliers by winsorizing each column in our outlier list to cap off values at 90%."
   ]
  },
  {
   "cell_type": "code",
   "execution_count": 54,
   "metadata": {},
   "outputs": [],
   "source": [
    "# Loop over each column in outlier list and winsorize to 90%\n",
    "for col in outlier_list:\n",
    "    app_df[col] = winsorize(app_df[col], (0, 0.10))"
   ]
  },
  {
   "cell_type": "code",
   "execution_count": 55,
   "metadata": {},
   "outputs": [
    {
     "data": {
      "image/png": "[encoded data removed]",
      "text/plain": [
       "<Figure size 1008x2016 with 17 Axes>"
      ]
     },
     "metadata": {
      "needs_background": "light"
     },
     "output_type": "display_data"
    }
   ],
   "source": [
    "plt.figure(figsize=(14,28))\n",
    "\n",
    "# Iterate over the column names and create boxplots for each one\n",
    "for colm in outlier_list:\n",
    "    plt.subplot(13, 4, outlier_list.index(colm) + 1)\n",
    "    plt.boxplot(app_df[colm], whis=5)\n",
    "    plt.title(\"{}\".format(colm))\n",
    "\n",
    "plt.suptitle('Updated Box Plots of Winsorized Variables (whis=5)', y=1.02, fontsize=18)\n",
    "plt.tight_layout()\n",
    "plt.show()"
   ]
  },
  {
   "cell_type": "markdown",
   "metadata": {},
   "source": [
    "#### Time Series and Other Analysis on Credit Card Information"
   ]
  },
  {
   "cell_type": "markdown",
   "metadata": {},
   "source": [
    "Now we can return to the credit card dataframe and extract potentially useful information from this. For this step, I want to add three new variables:\n",
    "\n",
    "1. The trend of percentage credit utilization over time by each applicant.\n",
    "2. Average number of drawings each loan participant has.\n",
    "3. The type of contract status.\n",
    "\n",
    "Let's take a look at these and bring them back into our main dataframe."
   ]
  },
  {
   "cell_type": "markdown",
   "metadata": {},
   "source": [
    "##### 1. Trend of % Credit Utilization by Customer"
   ]
  },
  {
   "cell_type": "code",
   "execution_count": 56,
   "metadata": {
    "scrolled": false
   },
   "outputs": [
    {
     "data": {
      "text/html": [
       "<div>\n",
       "<style scoped>\n",
       "    .dataframe tbody tr th:only-of-type {\n",
       "        vertical-align: middle;\n",
       "    }\n",
       "\n",
       "    .dataframe tbody tr th {\n",
       "        vertical-align: top;\n",
       "    }\n",
       "\n",
       "    .dataframe thead th {\n",
       "        text-align: right;\n",
       "    }\n",
       "</style>\n",
       "<table border=\"1\" class=\"dataframe\">\n",
       "  <thead>\n",
       "    <tr style=\"text-align: right;\">\n",
       "      <th></th>\n",
       "      <th>SK_ID_CURR</th>\n",
       "      <th>DIFF_CREDIT_UTILIZED</th>\n",
       "    </tr>\n",
       "  </thead>\n",
       "  <tbody>\n",
       "    <tr>\n",
       "      <th>1049726</th>\n",
       "      <td>456250</td>\n",
       "      <td>0.025266</td>\n",
       "    </tr>\n",
       "    <tr>\n",
       "      <th>1154348</th>\n",
       "      <td>456250</td>\n",
       "      <td>0.023696</td>\n",
       "    </tr>\n",
       "    <tr>\n",
       "      <th>310299</th>\n",
       "      <td>456250</td>\n",
       "      <td>-0.002234</td>\n",
       "    </tr>\n",
       "    <tr>\n",
       "      <th>1437743</th>\n",
       "      <td>456250</td>\n",
       "      <td>0.018087</td>\n",
       "    </tr>\n",
       "    <tr>\n",
       "      <th>431924</th>\n",
       "      <td>456250</td>\n",
       "      <td>0.013884</td>\n",
       "    </tr>\n",
       "    <tr>\n",
       "      <th>2248506</th>\n",
       "      <td>456250</td>\n",
       "      <td>0.013849</td>\n",
       "    </tr>\n",
       "    <tr>\n",
       "      <th>2985617</th>\n",
       "      <td>456250</td>\n",
       "      <td>0.015462</td>\n",
       "    </tr>\n",
       "    <tr>\n",
       "      <th>3734047</th>\n",
       "      <td>456250</td>\n",
       "      <td>0.018432</td>\n",
       "    </tr>\n",
       "    <tr>\n",
       "      <th>1684283</th>\n",
       "      <td>456250</td>\n",
       "      <td>0.033560</td>\n",
       "    </tr>\n",
       "    <tr>\n",
       "      <th>3611324</th>\n",
       "      <td>456250</td>\n",
       "      <td>0.075730</td>\n",
       "    </tr>\n",
       "    <tr>\n",
       "      <th>3000394</th>\n",
       "      <td>456250</td>\n",
       "      <td>-0.101197</td>\n",
       "    </tr>\n",
       "    <tr>\n",
       "      <th>735902</th>\n",
       "      <td>456248</td>\n",
       "      <td>-1.011075</td>\n",
       "    </tr>\n",
       "  </tbody>\n",
       "</table>\n",
       "</div>"
      ],
      "text/plain": [
       "         SK_ID_CURR  DIFF_CREDIT_UTILIZED\n",
       "1049726      456250              0.025266\n",
       "1154348      456250              0.023696\n",
       "310299       456250             -0.002234\n",
       "1437743      456250              0.018087\n",
       "431924       456250              0.013884\n",
       "2248506      456250              0.013849\n",
       "2985617      456250              0.015462\n",
       "3734047      456250              0.018432\n",
       "1684283      456250              0.033560\n",
       "3611324      456250              0.075730\n",
       "3000394      456250             -0.101197\n",
       "735902       456248             -1.011075"
      ]
     },
     "execution_count": 56,
     "metadata": {},
     "output_type": "execute_result"
    }
   ],
   "source": [
    "# Create a new column that calculates the percentage of credit being utilized\n",
    "credit_df['PERC_CREDIT_UTILIZED'] = credit_df['AMT_BALANCE'] / credit_df['AMT_CREDIT_LIMIT_ACTUAL']\n",
    "\n",
    "# Then create a column that calculates the differences between months of credit utilization\n",
    "credit_df['DIFF_CREDIT_UTILIZED'] = credit_df['PERC_CREDIT_UTILIZED'] - credit_df['PERC_CREDIT_UTILIZED'].shift(1)\n",
    "\n",
    "# Create a new dataframe that captures all differences in credit except most recent month\n",
    "util_df = credit_df[credit_df['MONTHS_BALANCE'] != -1][['SK_ID_CURR', 'DIFF_CREDIT_UTILIZED']].copy()\n",
    "\n",
    "# Fill in NaNs with zero change because some policies tried to divide by zero above\n",
    "util_df['DIFF_CREDIT_UTILIZED'].fillna(0, inplace=True)\n",
    "\n",
    "# Take a look at it\n",
    "util_df.head(12)"
   ]
  },
  {
   "cell_type": "code",
   "execution_count": 57,
   "metadata": {},
   "outputs": [
    {
     "data": {
      "text/html": [
       "<div>\n",
       "<style scoped>\n",
       "    .dataframe tbody tr th:only-of-type {\n",
       "        vertical-align: middle;\n",
       "    }\n",
       "\n",
       "    .dataframe tbody tr th {\n",
       "        vertical-align: top;\n",
       "    }\n",
       "\n",
       "    .dataframe thead th {\n",
       "        text-align: right;\n",
       "    }\n",
       "</style>\n",
       "<table border=\"1\" class=\"dataframe\">\n",
       "  <thead>\n",
       "    <tr style=\"text-align: right;\">\n",
       "      <th></th>\n",
       "      <th>SK_ID_CURR</th>\n",
       "      <th>TREND_CREDIT_UTILIZED</th>\n",
       "    </tr>\n",
       "  </thead>\n",
       "  <tbody>\n",
       "    <tr>\n",
       "      <th>0</th>\n",
       "      <td>456250</td>\n",
       "      <td>0.012230</td>\n",
       "    </tr>\n",
       "    <tr>\n",
       "      <th>1</th>\n",
       "      <td>456248</td>\n",
       "      <td>-0.043960</td>\n",
       "    </tr>\n",
       "    <tr>\n",
       "      <th>2</th>\n",
       "      <td>456247</td>\n",
       "      <td>0.005426</td>\n",
       "    </tr>\n",
       "    <tr>\n",
       "      <th>3</th>\n",
       "      <td>456246</td>\n",
       "      <td>-0.039511</td>\n",
       "    </tr>\n",
       "    <tr>\n",
       "      <th>4</th>\n",
       "      <td>456244</td>\n",
       "      <td>0.017436</td>\n",
       "    </tr>\n",
       "  </tbody>\n",
       "</table>\n",
       "</div>"
      ],
      "text/plain": [
       "   SK_ID_CURR  TREND_CREDIT_UTILIZED\n",
       "0      456250               0.012230\n",
       "1      456248              -0.043960\n",
       "2      456247               0.005426\n",
       "3      456246              -0.039511\n",
       "4      456244               0.017436"
      ]
     },
     "execution_count": 57,
     "metadata": {},
     "output_type": "execute_result"
    }
   ],
   "source": [
    "# Take the mean for each applicant to get a general trend, grouped by the current ID\n",
    "credit_util_trend = util_df.groupby(['SK_ID_CURR'], sort=False).mean().reset_index()\n",
    "\n",
    "# Name columns for trend\n",
    "credit_util_trend.columns = ['SK_ID_CURR', 'TREND_CREDIT_UTILIZED']\n",
    "\n",
    "# Take a look at it\n",
    "credit_util_trend.head()"
   ]
  },
  {
   "cell_type": "code",
   "execution_count": 58,
   "metadata": {},
   "outputs": [],
   "source": [
    "# Merge the new trend column into our main dataframe\n",
    "app_df = pd.merge(app_df, credit_util_trend)\n",
    "\n",
    "# Fill in empty values for applicants who don't have any credit with zero\n",
    "app_df['TREND_CREDIT_UTILIZED'].fillna(0, inplace=True)"
   ]
  },
  {
   "cell_type": "markdown",
   "metadata": {},
   "source": [
    "##### 2. Average Number of Drawings"
   ]
  },
  {
   "cell_type": "code",
   "execution_count": 59,
   "metadata": {
    "scrolled": true
   },
   "outputs": [
    {
     "data": {
      "text/html": [
       "<div>\n",
       "<style scoped>\n",
       "    .dataframe tbody tr th:only-of-type {\n",
       "        vertical-align: middle;\n",
       "    }\n",
       "\n",
       "    .dataframe tbody tr th {\n",
       "        vertical-align: top;\n",
       "    }\n",
       "\n",
       "    .dataframe thead th {\n",
       "        text-align: right;\n",
       "    }\n",
       "</style>\n",
       "<table border=\"1\" class=\"dataframe\">\n",
       "  <thead>\n",
       "    <tr style=\"text-align: right;\">\n",
       "      <th></th>\n",
       "      <th>SK_ID_CURR</th>\n",
       "      <th>CNT_DRAWINGS_ATM_CURRENT</th>\n",
       "      <th>CNT_DRAWINGS_CURRENT</th>\n",
       "      <th>CNT_DRAWINGS_OTHER_CURRENT</th>\n",
       "      <th>CNT_DRAWINGS_POS_CURRENT</th>\n",
       "    </tr>\n",
       "  </thead>\n",
       "  <tbody>\n",
       "    <tr>\n",
       "      <th>0</th>\n",
       "      <td>456250</td>\n",
       "      <td>0.666667</td>\n",
       "      <td>0.666667</td>\n",
       "      <td>0.0</td>\n",
       "      <td>0.000000</td>\n",
       "    </tr>\n",
       "    <tr>\n",
       "      <th>1</th>\n",
       "      <td>456248</td>\n",
       "      <td>0.000000</td>\n",
       "      <td>0.000000</td>\n",
       "      <td>0.0</td>\n",
       "      <td>0.000000</td>\n",
       "    </tr>\n",
       "    <tr>\n",
       "      <th>2</th>\n",
       "      <td>456247</td>\n",
       "      <td>0.115789</td>\n",
       "      <td>0.147368</td>\n",
       "      <td>0.0</td>\n",
       "      <td>0.031579</td>\n",
       "    </tr>\n",
       "    <tr>\n",
       "      <th>3</th>\n",
       "      <td>456246</td>\n",
       "      <td>0.000000</td>\n",
       "      <td>2.500000</td>\n",
       "      <td>0.0</td>\n",
       "      <td>2.500000</td>\n",
       "    </tr>\n",
       "    <tr>\n",
       "      <th>4</th>\n",
       "      <td>456244</td>\n",
       "      <td>1.048780</td>\n",
       "      <td>1.365854</td>\n",
       "      <td>0.0</td>\n",
       "      <td>0.317073</td>\n",
       "    </tr>\n",
       "  </tbody>\n",
       "</table>\n",
       "</div>"
      ],
      "text/plain": [
       "   SK_ID_CURR  CNT_DRAWINGS_ATM_CURRENT  CNT_DRAWINGS_CURRENT  \\\n",
       "0      456250                  0.666667              0.666667   \n",
       "1      456248                  0.000000              0.000000   \n",
       "2      456247                  0.115789              0.147368   \n",
       "3      456246                  0.000000              2.500000   \n",
       "4      456244                  1.048780              1.365854   \n",
       "\n",
       "   CNT_DRAWINGS_OTHER_CURRENT  CNT_DRAWINGS_POS_CURRENT  \n",
       "0                         0.0                  0.000000  \n",
       "1                         0.0                  0.000000  \n",
       "2                         0.0                  0.031579  \n",
       "3                         0.0                  2.500000  \n",
       "4                         0.0                  0.317073  "
      ]
     },
     "execution_count": 59,
     "metadata": {},
     "output_type": "execute_result"
    }
   ],
   "source": [
    "# Take the mean of each column, grouped by the current ID\n",
    "avg_drawings = credit_df.groupby(['SK_ID_CURR'], sort=False).mean()\n",
    "\n",
    "# Slice out just the columns we're looking at to bring back to the main table\n",
    "avg_drawings = avg_drawings[['CNT_DRAWINGS_ATM_CURRENT', 'CNT_DRAWINGS_CURRENT',\n",
    "                             'CNT_DRAWINGS_OTHER_CURRENT', 'CNT_DRAWINGS_POS_CURRENT']].reset_index()\n",
    "\n",
    "# Take a look at it\n",
    "avg_drawings.head()"
   ]
  },
  {
   "cell_type": "code",
   "execution_count": 60,
   "metadata": {},
   "outputs": [],
   "source": [
    "# Merge these new columns into our main dataframe\n",
    "app_df = pd.merge(app_df, avg_drawings)"
   ]
  },
  {
   "cell_type": "markdown",
   "metadata": {},
   "source": [
    "##### 3. Credit Card Contract Statuses"
   ]
  },
  {
   "cell_type": "code",
   "execution_count": 61,
   "metadata": {},
   "outputs": [],
   "source": [
    "# Create a new dataframe with just the ID's and contract statuses\n",
    "cc_contracts = credit_df[['SK_ID_CURR', 'NAME_CONTRACT_STATUS']]\n",
    "\n",
    "#Rename column to be more descriptive in the main df\n",
    "cc_contracts.columns = ['SK_ID_CURR', 'CREDITCARD_CONTRACT_STATUS']\n",
    "\n",
    "# Merge with the main dataframe\n",
    "app_df = pd.merge(app_df, cc_contracts)"
   ]
  },
  {
   "cell_type": "markdown",
   "metadata": {},
   "source": [
    "#### Applying Domain Specific Features"
   ]
  },
  {
   "cell_type": "markdown",
   "metadata": {},
   "source": [
    "Following these new credit card variables, I would also like to add some domain specific features to see how much they might effect our models. All home loan offices will look at an applicant's debt to income ratio, as well as precious payment schedules, to get an idea of their credit standing. Let's add those now using variables we already have."
   ]
  },
  {
   "cell_type": "code",
   "execution_count": 62,
   "metadata": {},
   "outputs": [],
   "source": [
    "# Create Debt Income Ratio column\n",
    "app_df['DEBT_INCOME_RATIO'] = app_df['AMT_CREDIT'] / app_df['AMT_INCOME_TOTAL']\n",
    "\n",
    "# Length of payment schedule (in months)\n",
    "app_df['LENGTH_PAYMENT'] = app_df['AMT_ANNUITY'] / app_df['AMT_CREDIT']"
   ]
  },
  {
   "cell_type": "markdown",
   "metadata": {},
   "source": [
    "##### Correlation Analysis"
   ]
  },
  {
   "cell_type": "markdown",
   "metadata": {},
   "source": [
    "Now that we have all of the variables that we want to include in our models we can print out our top 30 most correlated variables (15 positive and 15 negative)."
   ]
  },
  {
   "cell_type": "code",
   "execution_count": 63,
   "metadata": {},
   "outputs": [
    {
     "name": "stdout",
     "output_type": "stream",
     "text": [
      "Most Positive Correlations:\n",
      " AMT_REQ_CREDIT_BUREAU_HOUR     0.015145\n",
      "AMT_REQ_CREDIT_BUREAU_YEAR     0.018375\n",
      "OBS_60_CNT_SOCIAL_CIRCLE       0.019473\n",
      "OBS_30_CNT_SOCIAL_CIRCLE       0.019744\n",
      "FLAG_WORK_PHONE                0.022436\n",
      "DEF_30_CNT_SOCIAL_CIRCLE       0.022577\n",
      "DAYS_ID_PUBLISH                0.026896\n",
      "FLAG_EMP_PHONE                 0.032295\n",
      "DAYS_REGISTRATION              0.033913\n",
      "CNT_DRAWINGS_POS_CURRENT       0.040253\n",
      "DAYS_LAST_PHONE_CHANGE         0.051414\n",
      "REGION_RATING_CLIENT           0.053819\n",
      "CNT_DRAWINGS_CURRENT           0.055691\n",
      "REGION_RATING_CLIENT_W_CITY    0.056235\n",
      "CNT_DRAWINGS_ATM_CURRENT       0.085195\n",
      "TARGET                         1.000000\n",
      "Name: TARGET, dtype: float64\n",
      "\n",
      "Most Negative Correlations:\n",
      " DAYS_BIRTH                   -0.059438\n",
      "TREND_CREDIT_UTILIZED        -0.038276\n",
      "DAYS_EMPLOYED_ANOM           -0.032278\n",
      "DAYS_EMPLOYED                -0.031107\n",
      "REGION_POPULATION_RELATIVE   -0.026930\n",
      "AMT_GOODS_PRICE              -0.026463\n",
      "HOUR_APPR_PROCESS_START      -0.023337\n",
      "AMT_CREDIT                   -0.018793\n",
      "FLOORSMAX_AVG                -0.017669\n",
      "FLAG_PHONE                   -0.015677\n",
      "ELEVATORS_AVG                -0.014195\n",
      "LIVINGAREA_AVG               -0.013443\n",
      "ENTRANCES_AVG                -0.013024\n",
      "BUREAU_FLAG                  -0.012670\n",
      "AMT_REQ_CREDIT_BUREAU_QRT    -0.011710\n",
      "Name: TARGET, dtype: float64\n"
     ]
    }
   ],
   "source": [
    "# Find correlations with the target and sort\n",
    "correlations = app_df.corr()['TARGET'].sort_values()\n",
    "\n",
    "# Display correlations\n",
    "print('Most Positive Correlations:\\n', correlations.tail(16))\n",
    "print('\\nMost Negative Correlations:\\n', correlations.head(15))"
   ]
  },
  {
   "cell_type": "markdown",
   "metadata": {},
   "source": [
    "Looks like days of birth is negative, we could make that positive so we see the negative correlation, i.e. as they get older they're more likely to pay off loan. We could also convert this to years since birth if we want to make it more digestable."
   ]
  },
  {
   "cell_type": "markdown",
   "metadata": {},
   "source": [
    "##### Correlation Distribution Plots\n",
    "\n",
    "To get an idea of how some of our most correlated variables are distributed, we can use a KDE plot (kernel density estimation plot) from Seaborn. This shows us the distribution of a single variable color coded to the value of the target to show differences between applicants who could and could not meet their obligations."
   ]
  },
  {
   "cell_type": "code",
   "execution_count": 64,
   "metadata": {},
   "outputs": [
    {
     "data": {
      "image/png": "[encoded data removed]",
      "text/plain": [
       "<Figure size 864x1440 with 4 Axes>"
      ]
     },
     "metadata": {
      "needs_background": "light"
     },
     "output_type": "display_data"
    }
   ],
   "source": [
    "plt.figure(figsize = (12, 20))\n",
    "\n",
    "# iterate through the new features\n",
    "for i, feature in enumerate(['CNT_DRAWINGS_ATM_CURRENT', 'DAYS_BIRTH', 'TREND_CREDIT_UTILIZED', 'DAYS_EMPLOYED']):\n",
    "    \n",
    "    # create a new subplot for each source\n",
    "    plt.subplot(4, 1, i + 1)\n",
    "    \n",
    "    # plot repaid loans\n",
    "    sns.kdeplot(app_df.loc[app_df['TARGET'] == 0, feature], label = 'Applicant Made All Payments')\n",
    "    \n",
    "    # plot loans that were not repaid\n",
    "    sns.kdeplot(app_df.loc[app_df['TARGET'] == 1, feature], label = 'Applicant Defaulted')\n",
    "    \n",
    "    # Label the plots\n",
    "    plt.title('Distribution of %s by Target Value' % feature)\n",
    "    plt.xlabel('%s' % feature); plt.ylabel('Density');\n",
    "    \n",
    "plt.tight_layout(h_pad = 2.5)"
   ]
  },
  {
   "cell_type": "markdown",
   "metadata": {},
   "source": [
    "Looking at 'CNT_DRAWINGS_ATM_CURRENT' I notice that most applicants have a low number of drawings, this initially doesn't seem that interesting then. However, on closer inspection you can also see that the applicants who had defaulted on their payments had a noticeable spike in the low 20 region. This could indicate that they tend to have a habit of spending more even despite having to go through an ATM first. We can tell by looking at the 'DAYS_BIRTH' plot that generally those who were able to pay their debts were also older, not a big surprise there. The trend of utilization of credit variable 'TREND_CREDIT_UTILIZED' shows us that the applicants who defaulted are more likely to have an increasing rate of credit utilized, which also makes sense. Lastly, the 'DAYS_EMPLOYED' also shows us that people who were able to pay for their mortgages generally worked at their most recent employer for longer. All of the above checks out so far, so let's move on to finding our critical variables and running some models."
   ]
  },
  {
   "cell_type": "markdown",
   "metadata": {},
   "source": [
    "## Find Critical Variables\n",
    "\n",
    "We'll begin by using SelectFromModel to whittle down the large number of variables we currently have. My computer wouldn't be able to run all of these simultaneously even if they were all valuable. Following this, we'll build a few pipelines that will take one last subsection of the variables using SelectKBest before running it through a CV Search to get the best parameters to be used for each model. Lastly, we'll evaluate the output of each model with descriptive statistics in order to determine what will be used for our final model. Let's get started by converting the categorical columns into numbers with one hot encoding so we can adequately analyze them."
   ]
  },
  {
   "cell_type": "markdown",
   "metadata": {},
   "source": [
    "##### Make Dummy Variables for the Categorical Columns"
   ]
  },
  {
   "cell_type": "code",
   "execution_count": 65,
   "metadata": {},
   "outputs": [],
   "source": [
    "# Create a list of all of the categorical columns, as well as our boolean anomaly column\n",
    "cat_list = app_df.select_dtypes('object').columns.tolist()\n",
    "cat_list.append('DAYS_EMPLOYED_ANOM')\n",
    "\n",
    "# Use the categorical list to get dummies for all of those columns\n",
    "app_df = pd.get_dummies(app_df, columns=cat_list)\n",
    "\n",
    "# Replace spaces in new dummy column names with underscores\n",
    "app_df.columns = app_df.columns.str.replace(' ', '_')\n",
    "\n",
    "# Recast new dummy columns as int variables since some came out as unsigned integers, cause errors\n",
    "# Make list of columns with 'uint8' data type\n",
    "u_int_list = app_df.select_dtypes('uint8').columns.tolist()\n",
    "\n",
    "# Reassign all as numeric values\n",
    "app_df[u_int_list] = app_df[u_int_list].astype(int)\n",
    "\n",
    "# Replace inf values with zero\n",
    "app_df.loc[app_df['TREND_CREDIT_UTILIZED'].index[np.isinf(app_df).any(1)], 'TREND_CREDIT_UTILIZED'] = 0"
   ]
  },
  {
   "cell_type": "markdown",
   "metadata": {},
   "source": [
    "Now we have replaced all of the categorical columns with numerical dummies. We can finally start running this data through models to achieve our goals. Let's start by splitting up our data for training and testing and then finding our best features."
   ]
  },
  {
   "cell_type": "markdown",
   "metadata": {},
   "source": [
    "##### Splitting the Data into Training and Testing Sets"
   ]
  },
  {
   "cell_type": "code",
   "execution_count": 66,
   "metadata": {},
   "outputs": [],
   "source": [
    "# Create a list of all columns except the ID numbers and Target variable\n",
    "var_list = app_df.columns.tolist()\n",
    "var_list.remove('TARGET')\n",
    "var_list.remove('SK_ID_CURR')\n",
    "\n",
    "# Label our features and target\n",
    "X = app_df[var_list]\n",
    "Y = app_df['TARGET']\n",
    "\n",
    "# Split up our training and testing data, 20/80\n",
    "X_train, X_test, y_train, y_test = train_test_split(X, Y, test_size=0.2, random_state = 42)"
   ]
  },
  {
   "cell_type": "markdown",
   "metadata": {},
   "source": [
    "##### Use Random Forest Inside of SelectFromModel to Select Most Important Features"
   ]
  },
  {
   "cell_type": "code",
   "execution_count": 67,
   "metadata": {},
   "outputs": [
    {
     "name": "stdout",
     "output_type": "stream",
     "text": [
      "The shape of X_train is: (2582068, 185)\n",
      "The shape of X_train_s is: (2582068, 93)\n"
     ]
    }
   ],
   "source": [
    "# Create our select from model instance\n",
    "select_model = SelectFromModel(RandomForestClassifier(n_estimators=10, random_state=42), threshold='median')\n",
    "\n",
    "# Fit the training data to it\n",
    "select_model.fit(X_train, y_train)\n",
    "\n",
    "# Transform the features to get a new select version\n",
    "X_train_s = select_model.transform(X_train)\n",
    "\n",
    "# Print out before and after sizes to compare\n",
    "print('The shape of X_train is:', X_train.shape)\n",
    "print('The shape of X_train_s is:', X_train_s.shape)"
   ]
  },
  {
   "cell_type": "code",
   "execution_count": 68,
   "metadata": {},
   "outputs": [],
   "source": [
    "# Get a true/false list of the selected features \n",
    "feat_mask = select_model.get_support()\n",
    "\n",
    "# Make a list of the columns that were selected\n",
    "chosen_list = []\n",
    "i = 0\n",
    "\n",
    "# Create a list with the column names we want\n",
    "for choice in feat_mask:\n",
    "    if choice == True:\n",
    "        chosen_list.append(X_train.columns[i])\n",
    "    i += 1"
   ]
  },
  {
   "cell_type": "markdown",
   "metadata": {},
   "source": [
    "This data is still a bit bigger than I was hoping coming in with 93 variables, though it did cut the number of features we're using in half. However, I'm going to run it through this process once again. Hopefully we can get around 40-50 features to use in our models."
   ]
  },
  {
   "cell_type": "code",
   "execution_count": 69,
   "metadata": {},
   "outputs": [],
   "source": [
    "# Take just the columns we want from our feature selection so far\n",
    "X_train = X_train[chosen_list]"
   ]
  },
  {
   "cell_type": "code",
   "execution_count": 70,
   "metadata": {},
   "outputs": [
    {
     "name": "stdout",
     "output_type": "stream",
     "text": [
      "The shape of X_train is: (2582068, 93)\n",
      "The shape of X_train_s is: (2582068, 47)\n"
     ]
    }
   ],
   "source": [
    "# Create our select from model instance\n",
    "select_model = SelectFromModel(RandomForestClassifier(n_estimators=10, random_state=42), threshold='median')\n",
    "\n",
    "# Fit the training data to it\n",
    "select_model.fit(X_train, y_train)\n",
    "\n",
    "# Transform the features to get a new select version\n",
    "X_train_s2 = select_model.transform(X_train)\n",
    "\n",
    "# Print out before and after sizes to compare\n",
    "print('The shape of X_train is:', X_train.shape)\n",
    "print('The shape of X_train_s is:', X_train_s2.shape)"
   ]
  },
  {
   "cell_type": "markdown",
   "metadata": {},
   "source": [
    "That's what I'm talking about, only 47 features are left now. Let's create a boolean mask that will track which columns we should keep so we can use this feature list to reassign our data."
   ]
  },
  {
   "cell_type": "code",
   "execution_count": 71,
   "metadata": {
    "scrolled": true
   },
   "outputs": [],
   "source": [
    "# Get a true/false list of the selected features \n",
    "feat_mask = select_model.get_support()\n",
    "\n",
    "# Make a list of the columns that were selected\n",
    "chosen_list = []\n",
    "i = 0\n",
    "\n",
    "# Create a list with the column names we want\n",
    "for choice in feat_mask:\n",
    "    if choice == True:\n",
    "        chosen_list.append(X_train.columns[i])\n",
    "    i += 1"
   ]
  },
  {
   "cell_type": "markdown",
   "metadata": {},
   "source": [
    "## Predict Applicants' Ability to Pay Loan"
   ]
  },
  {
   "cell_type": "markdown",
   "metadata": {},
   "source": [
    "For each of these models we'll be following the same general work flow. Create a distribution of the parameters we want to test, create a pipeline that contains SelectKBest and the model we want to tune for, run a Randomized CV Search on the pipeline using the parameter distribution, and finally use the best parameters that are selected by this search to run through a pipeline one time to get specific output. This process will be repeated until the output has some productive capacity. Let's start with a Naive Bayes model, work on a Random Forest model, and finish with a K-Means model.\n",
    "\n",
    "###### Note: There are some commented out bits of code in this portion, this is because I had to run the cross validation sections through on Google colab in order to meet the computing requirements that my personal computer lacked."
   ]
  },
  {
   "cell_type": "markdown",
   "metadata": {},
   "source": [
    "##### Form the Testing and Training Data"
   ]
  },
  {
   "cell_type": "code",
   "execution_count": 72,
   "metadata": {},
   "outputs": [],
   "source": [
    "# Label our features and target\n",
    "X = app_df[chosen_list]\n",
    "Y = app_df['TARGET']\n",
    "\n",
    "# Split up our training and testing data, 20/80\n",
    "X_train, X_test, y_train, y_test = train_test_split(X, Y, test_size=0.2, random_state = 42)\n",
    "\n",
    "# For Google Colab runs\n",
    "#X.to_csv(r'app_df_X.csv', header=True, index=False)\n",
    "#Y.to_csv(r'app_df_Y.csv', header=True, index=False)"
   ]
  },
  {
   "cell_type": "markdown",
   "metadata": {},
   "source": [
    "### Naive Bayes Model"
   ]
  },
  {
   "cell_type": "markdown",
   "metadata": {},
   "source": [
    "Create the parameter distribution and initial pipeline, then run them through a cross validation search."
   ]
  },
  {
   "cell_type": "code",
   "execution_count": 73,
   "metadata": {},
   "outputs": [],
   "source": [
    "# Specify the distribution of parameters that we want to test\n",
    "nb_prm_dist = dict(\n",
    "    fcl__k = [i for i in np.arange(10, 40, 2)],\n",
    "    clf__alpha = [i for i in np.arange(0.1,1.1,0.1)], \n",
    "    clf__binarize = [i for i in np.arange(0.1,1.1,0.1)], \n",
    "    clf__fit_prior = [True, False]\n",
    "    )"
   ]
  },
  {
   "cell_type": "code",
   "execution_count": 74,
   "metadata": {},
   "outputs": [],
   "source": [
    "# Create a pipeline that will take us through the modeling process\n",
    "nb_base_pipeline = Pipeline([\n",
    "    # Select the best features to train from using the f_classif algorithm\n",
    "    ('fcl', SelectKBest(f_classif)),\n",
    "    \n",
    "    # Choose our classifier algorithm\n",
    "    ('clf', BernoulliNB())\n",
    "])"
   ]
  },
  {
   "cell_type": "code",
   "execution_count": 75,
   "metadata": {
    "scrolled": true
   },
   "outputs": [],
   "source": [
    "### DON'T DELETE ###\n",
    "# Start a timer for the NB's CV search\n",
    "#nbcv_start_time = time.time()\n",
    "\n",
    "# Set up the random search with our parameter distribution\n",
    "#nb_rand_search = RandomizedSearchCV(nb_base_pipeline, nb_prm_dist, n_iter=10, cv=10)\n",
    "\n",
    "# Fit the random search to our data\n",
    "#nb_rand_search.fit(X_train, y_train.values.ravel())"
   ]
  },
  {
   "cell_type": "markdown",
   "metadata": {},
   "source": [
    "Now that the cross validation is complete we can take a look at our best parameters."
   ]
  },
  {
   "cell_type": "code",
   "execution_count": 76,
   "metadata": {},
   "outputs": [
    {
     "data": {
      "text/plain": [
       "\"### BEST OUTPUT ###\\n{'fcl__k': 20, 'clf__fit_prior': True, 'clf__binarize': 0.30000000000000004, 'clf__alpha': 0.6}\\nThe Naive Bayes' CV search took 667.6867573261261 seconds\""
      ]
     },
     "execution_count": 76,
     "metadata": {},
     "output_type": "execute_result"
    }
   ],
   "source": [
    "### DON'T DELETE ###\n",
    "#print(nb_rand_search.best_params_)\n",
    "#print(\"The Naive Bayes' CV search took \" + str(time.time() - nbcv_start_time) + \" seconds\")\n",
    "\n",
    "'''### BEST OUTPUT ###\n",
    "{'fcl__k': 20, 'clf__fit_prior': True, 'clf__binarize': 0.30000000000000004, 'clf__alpha': 0.6}\n",
    "The Naive Bayes' CV search took 667.6867573261261 seconds'''"
   ]
  },
  {
   "cell_type": "markdown",
   "metadata": {},
   "source": [
    "Now we have our best parameters, so we can go ahead and use these as assigned variables and plug them into an updated pipeline."
   ]
  },
  {
   "cell_type": "code",
   "execution_count": 77,
   "metadata": {},
   "outputs": [],
   "source": [
    "# Assign our best parameters to variables to use in an updated pipeline\n",
    "nb_k = 20                      # nb_rand_search.best_params_['fcl__k']\n",
    "nb_alpha = 0.6                 # nb_rand_search.best_params_['clf__alpha']\n",
    "nb_fit_prior = True            # nb_rand_search.best_params_['clf__fit_prior']\n",
    "nb_binarize = 0.3              # nb_rand_search.best_params_['clf__binarize']"
   ]
  },
  {
   "cell_type": "code",
   "execution_count": 78,
   "metadata": {},
   "outputs": [],
   "source": [
    "# Create a pipeline that will take us through the modeling process using our new parameters\n",
    "nb_pipeline = Pipeline([\n",
    "    # Find the best features to train from using the f_classif algorithm\n",
    "    ('fcl', SelectKBest(f_classif, k = nb_k)),\n",
    "    \n",
    "    # Choose our classifier algorithm\n",
    "    ('clf', BernoulliNB(\n",
    "                        alpha = nb_alpha, \n",
    "                        binarize = nb_binarize,\n",
    "                        fit_prior = nb_fit_prior\n",
    "                        )\n",
    "    )\n",
    "])"
   ]
  },
  {
   "cell_type": "code",
   "execution_count": 79,
   "metadata": {},
   "outputs": [],
   "source": [
    "# Start a timer for the NB model\n",
    "nb_start_time = time.time()\n",
    "\n",
    "# Now we can fit our model to use for predictions\n",
    "nb_model = nb_pipeline.fit(X_train, y_train.values.ravel())"
   ]
  },
  {
   "cell_type": "code",
   "execution_count": 80,
   "metadata": {},
   "outputs": [
    {
     "name": "stdout",
     "output_type": "stream",
     "text": [
      "The Naive Bayes model's accuracy on the test set is: 0.9291312234999233\n",
      "The Naive Bayes model took 11.65890121459961 seconds\n"
     ]
    }
   ],
   "source": [
    "# See how our model performs\n",
    "print(\"The Naive Bayes model's accuracy on the test set is: \" + str(nb_model.score(X_test, y_test)))\n",
    "print(\"The Naive Bayes model took \" + str(time.time() - nb_start_time) + \" seconds\")"
   ]
  },
  {
   "cell_type": "code",
   "execution_count": 81,
   "metadata": {},
   "outputs": [
    {
     "name": "stderr",
     "output_type": "stream",
     "text": [
      "c:\\users\\garaya\\python\\lib\\site-packages\\sklearn\\metrics\\classification.py:1437: UndefinedMetricWarning: Precision and F-score are ill-defined and being set to 0.0 in labels with no predicted samples.\n",
      "  'precision', 'predicted', average, warn_for)\n"
     ]
    },
    {
     "name": "stdout",
     "output_type": "stream",
     "text": [
      "              precision    recall  f1-score   support\n",
      "\n",
      "           0       0.93      1.00      0.96   2997636\n",
      "           1       0.00      0.00      0.00    229949\n",
      "\n",
      "    accuracy                           0.93   3227585\n",
      "   macro avg       0.46      0.50      0.48   3227585\n",
      "weighted avg       0.86      0.93      0.89   3227585\n",
      "\n"
     ]
    }
   ],
   "source": [
    "y_nb_true = Y\n",
    "y_nb_pred = nb_model.predict(X)\n",
    "\n",
    "print(classification_report(y_nb_true, y_nb_pred))"
   ]
  },
  {
   "cell_type": "markdown",
   "metadata": {},
   "source": [
    "Looking at the classification report, this model did an awful job at prediction. It was completely unable to predict when an applicant would have problems meeting their financial obligations. You can see this by looking down the \"1\" row where it produces 0's straight across. I believe this has happened because (as we saw earlier) this data is extremely unbalanced between the two classes. Let's instead try a model that has a balancing parameter that we can utilize."
   ]
  },
  {
   "cell_type": "markdown",
   "metadata": {},
   "source": [
    "### Random Forest"
   ]
  },
  {
   "cell_type": "markdown",
   "metadata": {},
   "source": [
    "We'll follow the same workflow as above here for the Random Forest."
   ]
  },
  {
   "cell_type": "code",
   "execution_count": 82,
   "metadata": {},
   "outputs": [],
   "source": [
    "# Specify the distribution of parameters that we want to test\n",
    "rafo_prm_dist = dict(\n",
    "    fcl__k = [i for i in np.arange(10, 40, 2)],\n",
    "    clf__n_estimators = [i for i in np.arange(30, 60, 5)],\n",
    "    clf__criterion = ['gini', 'entropy'],\n",
    "    clf__max_depth = [i for i in np.arange(40, 90, 5)],\n",
    "    clf__max_features = ['auto', 'sqrt', 'log2']\n",
    "    )"
   ]
  },
  {
   "cell_type": "code",
   "execution_count": 83,
   "metadata": {},
   "outputs": [],
   "source": [
    "rafo_base_pipeline = Pipeline([\n",
    "    # Select the best features to train from using the f_classif algorithm\n",
    "    ('fcl', SelectKBest(f_classif)),\n",
    "    \n",
    "    # Choose our classifier algorithm\n",
    "    ('clf', ensemble.RandomForestClassifier())\n",
    "])"
   ]
  },
  {
   "cell_type": "code",
   "execution_count": 84,
   "metadata": {
    "scrolled": true
   },
   "outputs": [],
   "source": [
    "### DON'T DELETE ###\n",
    "# Start a timer for the random forest's CV search\n",
    "#rfcv_start_time = time.time()\n",
    "\n",
    "# Set up the random search with our parameter distribution\n",
    "#rafo_rand_search = RandomizedSearchCV(rafo_base_pipeline, rafo_prm_dist, n_iter=5, cv=10)\n",
    "\n",
    "# Fit the random search to our data\n",
    "#rafo_rand_search.fit(X_train, y_train.values.ravel())"
   ]
  },
  {
   "cell_type": "code",
   "execution_count": 85,
   "metadata": {
    "scrolled": true
   },
   "outputs": [
    {
     "data": {
      "text/plain": [
       "\"### BEST OUTPUT ###\\n{'fcl__k': 22, 'clf__n_estimators': 55, 'clf__max_features': 'sqrt', 'clf__max_depth': 55, 'clf__criterion': 'entropy'}\\nThe Random Forest's CV search took 34508.26267552376 seconds\""
      ]
     },
     "execution_count": 85,
     "metadata": {},
     "output_type": "execute_result"
    }
   ],
   "source": [
    "### DON'T DELETE ###\n",
    "#print(rafo_rand_search.best_params_)\n",
    "#print(\"The Random Forest's CV search took \" + str(time.time() - rfcv_start_time) + \" seconds\")\n",
    "\n",
    "'''### BEST OUTPUT ###\n",
    "{'fcl__k': 22, 'clf__n_estimators': 55, 'clf__max_features': 'sqrt', 'clf__max_depth': 55, 'clf__criterion': 'entropy'}\n",
    "The Random Forest's CV search took 34508.26267552376 seconds'''"
   ]
  },
  {
   "cell_type": "markdown",
   "metadata": {},
   "source": [
    "Now that we have our best parameters for this model, let's run them through an updated pipeline and produce another classification report to see how it did."
   ]
  },
  {
   "cell_type": "code",
   "execution_count": 86,
   "metadata": {},
   "outputs": [],
   "source": [
    "# Assign our best parameters to variables to use in an updated pipeline\n",
    "#            Assign             #  google or local run   #                original command                     #\n",
    "rafo_k = 18                     #      18 or 22          # rafo_rand_search.best_params_['fcl__k']             #\n",
    "rafo_n_estimators = 40          #      40 or 55          # rafo_rand_search.best_params_['clf__n_estimators']  #\n",
    "rafo_criterion = 'gini'         #  'gini' or 'entropy'   # rafo_rand_search.best_params_['clf__criterion']     #\n",
    "rafo_max_depth = 35             #      35 or 55          # rafo_rand_search.best_params_['clf__max_depth']     #\n",
    "rafo_max_features = 'log2'      #  'log2' or 'sqrt'      # rafo_rand_search.best_params_['clf__max_features']  #"
   ]
  },
  {
   "cell_type": "code",
   "execution_count": 87,
   "metadata": {},
   "outputs": [],
   "source": [
    "# Create a pipeline that will take us through the modeling process\n",
    "rafo_pipeline = Pipeline([\n",
    "    # Select the best features to train from using the f_classif algorithm\n",
    "    ('fcl', SelectKBest(f_classif, k = rafo_k)),\n",
    "    \n",
    "    # Choose our classifier algorithm\n",
    "    ('clf', ensemble.RandomForestClassifier(\n",
    "                                            n_estimators = rafo_n_estimators, \n",
    "                                            criterion = rafo_criterion,\n",
    "                                            max_depth = rafo_max_depth,\n",
    "                                            max_features = rafo_max_features\n",
    "                                            ))\n",
    "])"
   ]
  },
  {
   "cell_type": "code",
   "execution_count": 88,
   "metadata": {},
   "outputs": [],
   "source": [
    "# Start a timer for the random forest\n",
    "rf_start_time = time.time()\n",
    "\n",
    "# Now we can fit our model to use for predictions\n",
    "rafo_model = rafo_pipeline.fit(X_train, y_train.values.ravel())"
   ]
  },
  {
   "cell_type": "code",
   "execution_count": 89,
   "metadata": {},
   "outputs": [
    {
     "name": "stdout",
     "output_type": "stream",
     "text": [
      "The Random Forest Classification model's accuracy on the test set is: 0.9999829593953374\n",
      "The Random Forest took 749.2779092788696 seconds\n"
     ]
    }
   ],
   "source": [
    "# See how our model performs\n",
    "print(\"The Random Forest Classification model's accuracy on the test set is: \" + str(rafo_model.score(X_test, y_test)))\n",
    "print(\"The Random Forest took \" + str(time.time() - rf_start_time) + \" seconds\")"
   ]
  },
  {
   "cell_type": "code",
   "execution_count": 90,
   "metadata": {},
   "outputs": [
    {
     "name": "stdout",
     "output_type": "stream",
     "text": [
      "              precision    recall  f1-score   support\n",
      "\n",
      "           0       1.00      1.00      1.00   2997636\n",
      "           1       1.00      1.00      1.00    229949\n",
      "\n",
      "    accuracy                           1.00   3227585\n",
      "   macro avg       1.00      1.00      1.00   3227585\n",
      "weighted avg       1.00      1.00      1.00   3227585\n",
      "\n"
     ]
    }
   ],
   "source": [
    "y_rafo_true = Y\n",
    "y_rafo_pred = rafo_model.predict(X)\n",
    "\n",
    "print(classification_report(y_rafo_true, y_rafo_pred))"
   ]
  },
  {
   "cell_type": "markdown",
   "metadata": {},
   "source": [
    "This model was fantastic, it was able to correctly identify every customer! We could just stop here since the Random Forest model can provide us with our \"yes\" or \"no\" answers for the website, but let's see if we can try and group candidates to also give them group specific guidance on the website."
   ]
  },
  {
   "cell_type": "markdown",
   "metadata": {},
   "source": [
    "## Group Candidates\n",
    "\n",
    "I planned to take this step so that I can place people into groups, for example, \"very qualified, somewhat qualified, almost qualified, not qualified\" or something to that affect. In order to create these clusters, I will be employing the K-Means model. However, before we can jump into this model we need to standardize our features. This is because K-Means uses the Euclidean distance measure, which is sensitive to magnitudes, and hence all the features to weigh in equally."
   ]
  },
  {
   "cell_type": "markdown",
   "metadata": {},
   "source": [
    "##### Select our best features"
   ]
  },
  {
   "cell_type": "code",
   "execution_count": 91,
   "metadata": {},
   "outputs": [],
   "source": [
    "# If the above doesn't work on the pipeline, can also try rerunning just the select K best bit and use this\n",
    "X_features = SelectKBest(f_classif, k=22).fit(X_train, y_train.values.ravel())\n",
    "\n",
    "X_mask = X_features.get_support() #booleans for feature names\n",
    "\n",
    "final_features = [] # The list of the K best features\n",
    "i = 0\n",
    "\n",
    "# Create a list with the column names we want\n",
    "for feat in X_mask:\n",
    "    if feat == True:\n",
    "        final_features.append(X_train.columns[i])\n",
    "    i += 1"
   ]
  },
  {
   "cell_type": "code",
   "execution_count": 92,
   "metadata": {},
   "outputs": [],
   "source": [
    "# Label our features and target\n",
    "X = X[final_features]\n",
    "\n",
    "# Y = Y['TARGET'] # for stand alone k-means run\n",
    "\n",
    "# Split up our training and testing data, 20/80\n",
    "X_train, X_test, y_train, y_test = train_test_split(X, Y, test_size=0.2, random_state = 42)"
   ]
  },
  {
   "cell_type": "markdown",
   "metadata": {},
   "source": [
    "##### Standardize Data for K-Means"
   ]
  },
  {
   "cell_type": "code",
   "execution_count": 93,
   "metadata": {},
   "outputs": [],
   "source": [
    "# Initiate the Min Max Scaler\n",
    "min_max_scaler = preprocessing.MinMaxScaler()\n",
    "\n",
    "# Standardize the training data\n",
    "x2 = X_train.values\n",
    "x2_scaled = min_max_scaler.fit_transform(x2)\n",
    "X_train = pd.DataFrame(x2_scaled, columns=X_train.columns)"
   ]
  },
  {
   "cell_type": "code",
   "execution_count": 94,
   "metadata": {},
   "outputs": [],
   "source": [
    "# Again for test data too\n",
    "x3 = X_test.values\n",
    "x3_scaled = min_max_scaler.fit_transform(x3)\n",
    "X_test = pd.DataFrame(x3_scaled, columns=X_test.columns)"
   ]
  },
  {
   "cell_type": "markdown",
   "metadata": {},
   "source": [
    "### K-Means model"
   ]
  },
  {
   "cell_type": "markdown",
   "metadata": {},
   "source": [
    "Let's start off with another CV search for best parameters."
   ]
  },
  {
   "cell_type": "code",
   "execution_count": 95,
   "metadata": {},
   "outputs": [],
   "source": [
    "# Specify the distribution of parameters that we want to test\n",
    "km_prm_dist = dict(\n",
    "    clst__n_clusters = [i for i in np.arange(2, 20, 2)],\n",
    "    clst__n_init = [i for i in np.arange(10, 50, 2)],\n",
    "    clst__init = ['k-means++', 'random'],\n",
    "    clst__max_iter = [i for i in np.arange(300, 600, 50)],\n",
    "    )\n",
    "\n",
    "km_base_pipeline = Pipeline([\n",
    "    # Choose our classifier algorithm\n",
    "    ('clst', KMeans())\n",
    "])"
   ]
  },
  {
   "cell_type": "code",
   "execution_count": 96,
   "metadata": {},
   "outputs": [
    {
     "data": {
      "text/plain": [
       "\"### BEST OUTPUT n_iter = 5, cv = 10 ###\\n{'clst__n_clusters': 4, 'clst__max_iter': 550, 'clst__init': 'k-means++'}\\nThe Random Forest's CV search took 11486.642716169357 seconds\\n\""
      ]
     },
     "execution_count": 96,
     "metadata": {},
     "output_type": "execute_result"
    }
   ],
   "source": [
    "### DON'T DELETE ###\n",
    "# Start a timer for the random forest's CV search\n",
    "#km_start_time = time.time()\n",
    "\n",
    "# Set up the random search with our parameter distribution\n",
    "#km_rand_search = RandomizedSearchCV(km_base_pipeline, km_prm_dist, n_iter=10, cv=10, scoring='adjusted_rand_score')\n",
    "\n",
    "# Fit the random search to our data\n",
    "#km_rand_search.fit(X_train, y_train.values.ravel())\n",
    "\n",
    "#print(km_rand_search.best_params_)\n",
    "#print(\"The Random Forest's CV search took \" + str(time.time() - km_start_time) + \" seconds\")\n",
    "\n",
    "\n",
    "'''### BEST OUTPUT n_iter = 5, cv = 10 ###\n",
    "{'clst__n_clusters': 4, 'clst__max_iter': 550, 'clst__init': 'k-means++'}\n",
    "The Random Forest's CV search took 11486.642716169357 seconds\n",
    "'''"
   ]
  },
  {
   "cell_type": "code",
   "execution_count": 97,
   "metadata": {},
   "outputs": [
    {
     "name": "stdout",
     "output_type": "stream",
     "text": [
      "Adjusted Rand Index score: 0.0008890529662056591\n",
      "The K-Means model took 250.6355926990509 seconds\n"
     ]
    }
   ],
   "source": [
    "# Start a timer\n",
    "km_start = time.time()\n",
    "\n",
    "# Instantiate our clustering method\n",
    "kmeans = KMeans(n_clusters = 4, max_iter = 550, init= 'k-means++', n_init = 30)\n",
    "\n",
    "# Fit the data\n",
    "kmeans_model = kmeans.fit(X_train, y_train)\n",
    "\n",
    "# Make predictions\n",
    "kmeans_pred = kmeans_model.fit_predict(X_test, y_test)\n",
    "\n",
    "# See how well it did\n",
    "print(\"Adjusted Rand Index score:\", metrics.adjusted_rand_score(y_test, kmeans_pred))\n",
    "print(\"The K-Means model took\", time.time() - km_start, \"seconds\")"
   ]
  },
  {
   "cell_type": "markdown",
   "metadata": {},
   "source": [
    "Since the Adjusted Rand Index score is closer to zero than it is to 1, it looks like this model is close to predicting at random. That's no good! I wonder what the clusters look like, let's look at a contingency table."
   ]
  },
  {
   "cell_type": "code",
   "execution_count": 98,
   "metadata": {},
   "outputs": [
    {
     "data": {
      "text/html": [
       "<div>\n",
       "<style scoped>\n",
       "    .dataframe tbody tr th:only-of-type {\n",
       "        vertical-align: middle;\n",
       "    }\n",
       "\n",
       "    .dataframe tbody tr th {\n",
       "        vertical-align: top;\n",
       "    }\n",
       "\n",
       "    .dataframe thead th {\n",
       "        text-align: right;\n",
       "    }\n",
       "</style>\n",
       "<table border=\"1\" class=\"dataframe\">\n",
       "  <thead>\n",
       "    <tr style=\"text-align: right;\">\n",
       "      <th>col_0</th>\n",
       "      <th>0</th>\n",
       "      <th>1</th>\n",
       "      <th>2</th>\n",
       "      <th>3</th>\n",
       "    </tr>\n",
       "    <tr>\n",
       "      <th>TARGET</th>\n",
       "      <th></th>\n",
       "      <th></th>\n",
       "      <th></th>\n",
       "      <th></th>\n",
       "    </tr>\n",
       "  </thead>\n",
       "  <tbody>\n",
       "    <tr>\n",
       "      <th>0</th>\n",
       "      <td>109820</td>\n",
       "      <td>135698</td>\n",
       "      <td>126261</td>\n",
       "      <td>227991</td>\n",
       "    </tr>\n",
       "    <tr>\n",
       "      <th>1</th>\n",
       "      <td>8672</td>\n",
       "      <td>11710</td>\n",
       "      <td>8759</td>\n",
       "      <td>16606</td>\n",
       "    </tr>\n",
       "  </tbody>\n",
       "</table>\n",
       "</div>"
      ],
      "text/plain": [
       "col_0        0       1       2       3\n",
       "TARGET                                \n",
       "0       109820  135698  126261  227991\n",
       "1         8672   11710    8759   16606"
      ]
     },
     "execution_count": 98,
     "metadata": {},
     "output_type": "execute_result"
    }
   ],
   "source": [
    "# Get predicted clusters\n",
    "pd.crosstab(y_test, kmeans_pred)"
   ]
  },
  {
   "cell_type": "markdown",
   "metadata": {},
   "source": [
    "This clearly didn't work out so well for us, but maybe there's a reason for that. It might have to do with the class imbalance between our target variable values. However, the Random Forest performed so well, for now we can table this model until I have more time to work through the issues."
   ]
  },
  {
   "cell_type": "markdown",
   "metadata": {},
   "source": [
    "## Final Model\n",
    "\n",
    "Well we made it, the Random Forest worked so well that I abandoned the SVC model that I was trying to use, and I ended up not needing the K-Means model as much as I had thought. So, I have written out the final model that I would move forward with for this data below. We ended up with 22 critical variables that can easily be transformed into 22 simple questions for beginners."
   ]
  },
  {
   "cell_type": "code",
   "execution_count": 99,
   "metadata": {},
   "outputs": [],
   "source": [
    "# Label our features and target from the original data set\n",
    "X = app_df[final_features]\n",
    "Y = app_df['TARGET']\n",
    "\n",
    "# Split up our training and testing data, 20/80\n",
    "X_train, X_test, y_train, y_test = train_test_split(X, Y, test_size=0.2, random_state=42)"
   ]
  },
  {
   "cell_type": "code",
   "execution_count": 100,
   "metadata": {},
   "outputs": [],
   "source": [
    "# Assign our best parameters to variables to use in an updated pipeline\n",
    "rafo_n_estimators = 40\n",
    "rafo_criterion = 'gini'\n",
    "rafo_max_depth = 35\n",
    "rafo_max_features = 'log2'\n",
    "\n",
    "# Create a pipeline that will take us through the modeling process\n",
    "rafo_pipeline = Pipeline([    \n",
    "    # Choose our classifier algorithm\n",
    "    ('clf', ensemble.RandomForestClassifier(\n",
    "                                            n_estimators = rafo_n_estimators, \n",
    "                                            criterion = rafo_criterion,\n",
    "                                            max_depth = rafo_max_depth,\n",
    "                                            max_features = rafo_max_features\n",
    "                                            ))\n",
    "])"
   ]
  },
  {
   "cell_type": "code",
   "execution_count": 101,
   "metadata": {},
   "outputs": [
    {
     "name": "stdout",
     "output_type": "stream",
     "text": [
      "The Random Forest Classification model's accuracy on the test set is: 0.9999829593953374\n",
      "The Random Forest took 706.8218052387238 seconds\n",
      "              precision    recall  f1-score   support\n",
      "\n",
      "           0       1.00      1.00      1.00   2997636\n",
      "           1       1.00      1.00      1.00    229949\n",
      "\n",
      "    accuracy                           1.00   3227585\n",
      "   macro avg       1.00      1.00      1.00   3227585\n",
      "weighted avg       1.00      1.00      1.00   3227585\n",
      "\n"
     ]
    }
   ],
   "source": [
    "# Start a timer for the random forest\n",
    "rf_start_time = time.time()\n",
    "\n",
    "# Now we can fit our model to use for predictions\n",
    "rafo_model = rafo_pipeline.fit(X_train, y_train.values.ravel())\n",
    "\n",
    "# See how our model performs\n",
    "print(\"The Random Forest Classification model's accuracy on the test set is: \" + str(rafo_model.score(X_test, y_test)))\n",
    "print(\"The Random Forest took \" + str(time.time() - rf_start_time) + \" seconds\")\n",
    "\n",
    "y_rafo_true = Y\n",
    "y_rafo_pred = rafo_model.predict(X)\n",
    "\n",
    "print(classification_report(y_rafo_true, y_rafo_pred))"
   ]
  },
  {
   "cell_type": "code",
   "execution_count": 102,
   "metadata": {
    "scrolled": true
   },
   "outputs": [
    {
     "name": "stdout",
     "output_type": "stream",
     "text": [
      "Customer #1 got a 0.0% chance of meeting financial obligations and should not look into home loans just yet.\n",
      "Customer #99 got a 1.15% chance of meeting financial obligations and should not look into home loans just yet.\n",
      "Customer #150 got a 98.88% chance of meeting financial obligations and should look into getting a mortgage.\n",
      "Customer #1530 got a 99.52% chance of meeting financial obligations and should look into getting a mortgage.\n",
      "Customer #216364 got a 75.0% chance of meeting financial obligations and should look into getting a mortgage.\n"
     ]
    }
   ],
   "source": [
    "predictions_mx = rafo_model.predict_proba(X)\n",
    "\n",
    "preds = predictions_mx[:,1]\n",
    "\n",
    "appcnt_list = [1, 99, 150, 1530, 216_364]\n",
    "\n",
    "for num in appcnt_list:\n",
    "    if y_rafo_pred[num] == 0:\n",
    "        print(\"Customer #{} got a {}% chance of meeting financial obligations and should not look into home loans just yet.\".format(num, round(preds[num] * 100, 2)))\n",
    "    if y_rafo_pred[num] == 1:\n",
    "        print(\"Customer #{} got a {}% chance of meeting financial obligations and should look into getting a mortgage.\".format(num, round(preds[num] * 100, 2)))"
   ]
  },
  {
   "cell_type": "markdown",
   "metadata": {},
   "source": [
    "## Next Steps / Looking Forward\n",
    "\n",
    "#### How would the website look/work?\n",
    "\n",
    "The website simply takes the input of a form that new users are presented with, runs it through our above model, and then outputs the probability that the user can meet their financial obligations as well as if they should or should not move forward with considering applications. If they pass, the website would provide them with resources for who they could contact to take next steps. If the user doesn’t pass by a large margin, but still passes, the site could refer them to other options, such as programs that are specifically for individuals with lower income or bad credit for example. If the user fails outright, the site instead provides information on how they can improve their standing, and resources to learn more.\n",
    "\n",
    "On the business side, we could work an agreement with institutions to get kickbacks for sending them new applicants or users. We could also receive updates from our partners when our applicants are approved or declined to continually update our models. For potential applicants, this website would be an attractive endeavor because even if they fail outright, or edit the form multiple times as their financial situation changes, there would not be any hard queries on their credit report that could damage their credit. Furthermore, users would log in and have all their information saved, so that if they just want to update one or two parts, they can easily do so without redoing everything. Then once they are ready to take steps forward, the site can print out a standardized form so they can show up at the lender of their choosing ready to begin. On top of the above, while users are filling out the form we could also give them relevant information on parts they seem to be stuck on. For example, we could show them how to receive free credit scores, or offer to retrieve their full credit report for a small fee.\n",
    "\n",
    "#### What is your data source and how will you access it?\n",
    "I have two ideas for updating/maintaining our data source that can be used to keep the model current:\n",
    "1. Send surveys to past customers to see if they were approved using the information we have\n",
    "2. Get informed by bank/loan offices that we work with when one of our candidates is approved or declined to inform our model into the future\n",
    "\n",
    "#### What do you anticipate to be the biggest challenge you’ll face?\n",
    "Getting people to willfully give their personal information. However, websites like Mint have been successful at this so I think this is within reason.\n",
    "\n",
    "#### Why is this valuable?\n",
    "- This is different than other \"mortgage calculators\" online because those focus specifically on if you can afford a certain specified amount or not, but don't provide reasons why you don't make it, or provide further resources.\n",
    "- Other \"mortgage calculators\" also all ask for the same info but might miss some of the variables we discovered here that also ensure success after the loan is obtained.\n",
    "- You can fill out the information over time and at your leisure.\n",
    "- Take the pesky calls out of the equation, no pushy phone calls about your status and when you’re going to get everything together.\n",
    "- Avoid unnecessary hard queries that bring down your credit score.\n",
    "\n",
    "#### Ideas of how it can make money:\n",
    "- Credit score - inform users of free places to get their number (maybe slight kickback for click throughs from sites we link to), or user can enter it themselves (some people get it for free from their bank already), OR we could offer a paid service to get a full credit report for you that will auto fill in some info.\n",
    "- If the user falls under a certain %age, provide links to websites/institutions that can help or give guidance on how they can become eligible\n",
    "- If user falls within mid-range %age, provide links to bad credit/low income home loan programs\n",
    "- If they pass with med-high %age, bring customers to banks and/or loan offices for some kickback and/or more data for our model - mutual relationship\n",
    "- If they pass with a very high %age, institutes who pay us the most get referenced to these customers\n",
    "    \n",
    "#### Gathering more data in the future:\n",
    "- Model is originally trained on data provided in this kaggle data set (over 307K applicants in it), but could also try and receive (possibly purchase early on) info from banks later to improve model.\n",
    "- Send surveys to past customers to see if they were approved using the information we have.\n",
    "- Get informed by bank/loan offices that we work with when one of our candidates is approved or declined to inform our model into the future.\n",
    "- Credit card info could be retrieved by asking for it, like the website Mint does, or maybe if they have a Mint account that could be a business relation in the making."
   ]
  }
 ],
 "metadata": {
  "kernelspec": {
   "display_name": "Python 3",
   "language": "python",
   "name": "python3"
  },
  "language_info": {
   "codemirror_mode": {
    "name": "ipython",
    "version": 3
   },
   "file_extension": ".py",
   "mimetype": "text/x-python",
   "name": "python",
   "nbconvert_exporter": "python",
   "pygments_lexer": "ipython3",
   "version": "3.6.2"
  }
 },
 "nbformat": 4,
 "nbformat_minor": 2
}
